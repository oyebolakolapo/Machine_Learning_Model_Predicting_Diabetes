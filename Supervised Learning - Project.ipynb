{
 "cells": [
  {
   "cell_type": "markdown",
   "id": "3e985673",
   "metadata": {},
   "source": [
    "# Supervised Learning - Project"
   ]
  },
  {
   "cell_type": "markdown",
   "id": "08aa509e",
   "metadata": {},
   "source": [
    "In this Project, we are going to perform a full supervised learning machine learning project on a \"Diabetes\" dataset. This dataset is originally from the National Institute of Diabetes and Digestive and Kidney\n",
    "Diseases. The objective of the dataset is to diagnostically predict whether a patient has diabetes,\n",
    "based on certain diagnostic measurements included in the dataset. \n",
    "\n",
    "[Kaggle Dataset](https://www.kaggle.com/datasets/akshaydattatraykhare/diabetes-dataset)"
   ]
  },
  {
   "cell_type": "markdown",
   "id": "4e3e6a19",
   "metadata": {
    "tags": []
   },
   "source": [
    "# Part I : EDA - Exploratory Data Analysis"
   ]
  },
  {
   "cell_type": "markdown",
   "id": "0d46714a",
   "metadata": {},
   "source": [
    "For this task, you are required to conduct an exploratory data analysis on the diabetes dataset. You have the freedom to choose the visualizations you want to use, but your analysis should cover the following tasks mostly:\n",
    "\n",
    "- Are there any missing values in the dataset?\n",
    "- How are the predictor variables related to the outcome variable?\n",
    "- What is the correlation between the predictor variables?\n",
    "- What is the distribution of each predictor variable?\n",
    "- Are there any outliers in the predictor variables?\n",
    "- How are the predictor variables related to each other?\n",
    "- Is there any interaction effect between the predictor variables?\n",
    "- What is the average age of the individuals in the dataset?\n",
    "- What is the average glucose level for individuals with diabetes and without diabetes?\n",
    "- What is the average BMI for individuals with diabetes and without diabetes?\n",
    "- How does the distribution of the predictor variables differ for individuals with diabetes and without diabetes?\n",
    "- Are there any differences in the predictor variables between males and females (if gender information is available)?"
   ]
  },
  {
   "cell_type": "markdown",
   "id": "0f41fa06-b673-4644-a5a6-12f8fc825200",
   "metadata": {
    "tags": []
   },
   "source": [
    "# 1. Quick Installations and importations"
   ]
  },
  {
   "cell_type": "code",
   "execution_count": 1,
   "id": "e3327f73-5fb4-4c6e-b110-270ce6383417",
   "metadata": {
    "tags": []
   },
   "outputs": [
    {
     "name": "stdout",
     "output_type": "stream",
     "text": [
      "Requirement already satisfied: mlxtend in /opt/anaconda3/lib/python3.9/site-packages (0.23.0)\n",
      "Requirement already satisfied: scipy>=1.2.1 in /opt/anaconda3/lib/python3.9/site-packages (from mlxtend) (1.11.1)\n",
      "Requirement already satisfied: numpy>=1.16.2 in /opt/anaconda3/lib/python3.9/site-packages (from mlxtend) (1.24.3)\n",
      "Requirement already satisfied: pandas>=0.24.2 in /opt/anaconda3/lib/python3.9/site-packages (from mlxtend) (2.0.0)\n",
      "Requirement already satisfied: scikit-learn>=1.0.2 in /opt/anaconda3/lib/python3.9/site-packages (from mlxtend) (1.3.1)\n",
      "Requirement already satisfied: matplotlib>=3.0.0 in /opt/anaconda3/lib/python3.9/site-packages (from mlxtend) (3.7.2)\n",
      "Requirement already satisfied: joblib>=0.13.2 in /opt/anaconda3/lib/python3.9/site-packages (from mlxtend) (1.2.0)\n",
      "Requirement already satisfied: contourpy>=1.0.1 in /opt/anaconda3/lib/python3.9/site-packages (from matplotlib>=3.0.0->mlxtend) (1.0.5)\n",
      "Requirement already satisfied: cycler>=0.10 in /opt/anaconda3/lib/python3.9/site-packages (from matplotlib>=3.0.0->mlxtend) (0.11.0)\n",
      "Requirement already satisfied: fonttools>=4.22.0 in /opt/anaconda3/lib/python3.9/site-packages (from matplotlib>=3.0.0->mlxtend) (4.25.0)\n",
      "Requirement already satisfied: kiwisolver>=1.0.1 in /opt/anaconda3/lib/python3.9/site-packages (from matplotlib>=3.0.0->mlxtend) (1.4.4)\n",
      "Requirement already satisfied: packaging>=20.0 in /opt/anaconda3/lib/python3.9/site-packages (from matplotlib>=3.0.0->mlxtend) (23.1)\n",
      "Requirement already satisfied: pillow>=6.2.0 in /opt/anaconda3/lib/python3.9/site-packages (from matplotlib>=3.0.0->mlxtend) (9.4.0)\n",
      "Requirement already satisfied: pyparsing<3.1,>=2.3.1 in /opt/anaconda3/lib/python3.9/site-packages (from matplotlib>=3.0.0->mlxtend) (3.0.9)\n",
      "Requirement already satisfied: python-dateutil>=2.7 in /opt/anaconda3/lib/python3.9/site-packages (from matplotlib>=3.0.0->mlxtend) (2.8.2)\n",
      "Requirement already satisfied: importlib-resources>=3.2.0 in /opt/anaconda3/lib/python3.9/site-packages (from matplotlib>=3.0.0->mlxtend) (5.2.0)\n",
      "Requirement already satisfied: pytz>=2020.1 in /opt/anaconda3/lib/python3.9/site-packages (from pandas>=0.24.2->mlxtend) (2022.7)\n",
      "Requirement already satisfied: tzdata>=2022.1 in /opt/anaconda3/lib/python3.9/site-packages (from pandas>=0.24.2->mlxtend) (2023.3)\n",
      "Requirement already satisfied: threadpoolctl>=2.0.0 in /opt/anaconda3/lib/python3.9/site-packages (from scikit-learn>=1.0.2->mlxtend) (2.2.0)\n",
      "Requirement already satisfied: zipp>=3.1.0 in /opt/anaconda3/lib/python3.9/site-packages (from importlib-resources>=3.2.0->matplotlib>=3.0.0->mlxtend) (3.11.0)\n",
      "Requirement already satisfied: six>=1.5 in /opt/anaconda3/lib/python3.9/site-packages (from python-dateutil>=2.7->matplotlib>=3.0.0->mlxtend) (1.16.0)\n",
      "Note: you may need to restart the kernel to use updated packages.\n"
     ]
    }
   ],
   "source": [
    "pip install mlxtend      "
   ]
  },
  {
   "cell_type": "code",
   "execution_count": 2,
   "id": "e71766ed-f3eb-4998-8de8-9ed6d7fdadce",
   "metadata": {
    "tags": []
   },
   "outputs": [
    {
     "name": "stdout",
     "output_type": "stream",
     "text": [
      "Requirement already satisfied: missingno in /opt/anaconda3/lib/python3.9/site-packages (0.5.2)\n",
      "Requirement already satisfied: numpy in /opt/anaconda3/lib/python3.9/site-packages (from missingno) (1.24.3)\n",
      "Requirement already satisfied: matplotlib in /opt/anaconda3/lib/python3.9/site-packages (from missingno) (3.7.2)\n",
      "Requirement already satisfied: scipy in /opt/anaconda3/lib/python3.9/site-packages (from missingno) (1.11.1)\n",
      "Requirement already satisfied: seaborn in /opt/anaconda3/lib/python3.9/site-packages (from missingno) (0.12.2)\n",
      "Requirement already satisfied: contourpy>=1.0.1 in /opt/anaconda3/lib/python3.9/site-packages (from matplotlib->missingno) (1.0.5)\n",
      "Requirement already satisfied: cycler>=0.10 in /opt/anaconda3/lib/python3.9/site-packages (from matplotlib->missingno) (0.11.0)\n",
      "Requirement already satisfied: fonttools>=4.22.0 in /opt/anaconda3/lib/python3.9/site-packages (from matplotlib->missingno) (4.25.0)\n",
      "Requirement already satisfied: kiwisolver>=1.0.1 in /opt/anaconda3/lib/python3.9/site-packages (from matplotlib->missingno) (1.4.4)\n",
      "Requirement already satisfied: packaging>=20.0 in /opt/anaconda3/lib/python3.9/site-packages (from matplotlib->missingno) (23.1)\n",
      "Requirement already satisfied: pillow>=6.2.0 in /opt/anaconda3/lib/python3.9/site-packages (from matplotlib->missingno) (9.4.0)\n",
      "Requirement already satisfied: pyparsing<3.1,>=2.3.1 in /opt/anaconda3/lib/python3.9/site-packages (from matplotlib->missingno) (3.0.9)\n",
      "Requirement already satisfied: python-dateutil>=2.7 in /opt/anaconda3/lib/python3.9/site-packages (from matplotlib->missingno) (2.8.2)\n",
      "Requirement already satisfied: importlib-resources>=3.2.0 in /opt/anaconda3/lib/python3.9/site-packages (from matplotlib->missingno) (5.2.0)\n",
      "Requirement already satisfied: pandas>=0.25 in /opt/anaconda3/lib/python3.9/site-packages (from seaborn->missingno) (2.0.0)\n",
      "Requirement already satisfied: zipp>=3.1.0 in /opt/anaconda3/lib/python3.9/site-packages (from importlib-resources>=3.2.0->matplotlib->missingno) (3.11.0)\n",
      "Requirement already satisfied: pytz>=2020.1 in /opt/anaconda3/lib/python3.9/site-packages (from pandas>=0.25->seaborn->missingno) (2022.7)\n",
      "Requirement already satisfied: tzdata>=2022.1 in /opt/anaconda3/lib/python3.9/site-packages (from pandas>=0.25->seaborn->missingno) (2023.3)\n",
      "Requirement already satisfied: six>=1.5 in /opt/anaconda3/lib/python3.9/site-packages (from python-dateutil>=2.7->matplotlib->missingno) (1.16.0)\n",
      "Note: you may need to restart the kernel to use updated packages.\n"
     ]
    }
   ],
   "source": [
    "pip install missingno "
   ]
  },
  {
   "cell_type": "code",
   "execution_count": 3,
   "id": "7d51d29c-ece3-4f04-8648-a36114a9e0a4",
   "metadata": {
    "tags": []
   },
   "outputs": [
    {
     "name": "stdout",
     "output_type": "stream",
     "text": [
      "Requirement already satisfied: lightgbm in /opt/anaconda3/lib/python3.9/site-packages (4.1.0)\n",
      "Requirement already satisfied: numpy in /opt/anaconda3/lib/python3.9/site-packages (from lightgbm) (1.24.3)\n",
      "Requirement already satisfied: scipy in /opt/anaconda3/lib/python3.9/site-packages (from lightgbm) (1.11.1)\n",
      "Note: you may need to restart the kernel to use updated packages.\n"
     ]
    }
   ],
   "source": [
    "pip install lightgbm     "
   ]
  },
  {
   "cell_type": "code",
   "execution_count": 4,
   "id": "1f1e95f7-1983-4da8-b786-78979645ebaa",
   "metadata": {
    "tags": []
   },
   "outputs": [
    {
     "ename": "OSError",
     "evalue": "dlopen(/opt/anaconda3/lib/python3.9/site-packages/lightgbm/lib/lib_lightgbm.so, 6): Library not loaded: /usr/local/opt/libomp/lib/libomp.dylib\n  Referenced from: /opt/anaconda3/lib/python3.9/site-packages/lightgbm/lib/lib_lightgbm.so\n  Reason: image not found",
     "output_type": "error",
     "traceback": [
      "\u001b[0;31m---------------------------------------------------------------------------\u001b[0m",
      "\u001b[0;31mOSError\u001b[0m                                   Traceback (most recent call last)",
      "Cell \u001b[0;32mIn[4], line 22\u001b[0m\n\u001b[1;32m     20\u001b[0m \u001b[38;5;28;01mfrom\u001b[39;00m \u001b[38;5;21;01msklearn\u001b[39;00m\u001b[38;5;21;01m.\u001b[39;00m\u001b[38;5;21;01mensemble\u001b[39;00m \u001b[38;5;28;01mimport\u001b[39;00m RandomForestClassifier\n\u001b[1;32m     21\u001b[0m \u001b[38;5;28;01mfrom\u001b[39;00m \u001b[38;5;21;01msklearn\u001b[39;00m\u001b[38;5;21;01m.\u001b[39;00m\u001b[38;5;21;01mensemble\u001b[39;00m \u001b[38;5;28;01mimport\u001b[39;00m GradientBoostingClassifier\n\u001b[0;32m---> 22\u001b[0m \u001b[38;5;28;01mfrom\u001b[39;00m \u001b[38;5;21;01mlightgbm\u001b[39;00m \u001b[38;5;28;01mimport\u001b[39;00m LGBMClassifier\n\u001b[1;32m     23\u001b[0m \u001b[38;5;28;01mfrom\u001b[39;00m \u001b[38;5;21;01msklearn\u001b[39;00m\u001b[38;5;21;01m.\u001b[39;00m\u001b[38;5;21;01mmodel_selection\u001b[39;00m \u001b[38;5;28;01mimport\u001b[39;00m KFold\n\u001b[1;32m     25\u001b[0m \u001b[38;5;28;01mfrom\u001b[39;00m \u001b[38;5;21;01msklearn\u001b[39;00m\u001b[38;5;21;01m.\u001b[39;00m\u001b[38;5;21;01mmetrics\u001b[39;00m \u001b[38;5;28;01mimport\u001b[39;00m confusion_matrix\n",
      "File \u001b[0;32m/opt/anaconda3/lib/python3.9/site-packages/lightgbm/__init__.py:8\u001b[0m\n\u001b[1;32m      2\u001b[0m \u001b[38;5;124;03m\"\"\"LightGBM, Light Gradient Boosting Machine.\u001b[39;00m\n\u001b[1;32m      3\u001b[0m \n\u001b[1;32m      4\u001b[0m \u001b[38;5;124;03mContributors: https://github.com/microsoft/LightGBM/graphs/contributors.\u001b[39;00m\n\u001b[1;32m      5\u001b[0m \u001b[38;5;124;03m\"\"\"\u001b[39;00m\n\u001b[1;32m      6\u001b[0m \u001b[38;5;28;01mfrom\u001b[39;00m \u001b[38;5;21;01mpathlib\u001b[39;00m \u001b[38;5;28;01mimport\u001b[39;00m Path\n\u001b[0;32m----> 8\u001b[0m \u001b[38;5;28;01mfrom\u001b[39;00m \u001b[38;5;21;01m.\u001b[39;00m\u001b[38;5;21;01mbasic\u001b[39;00m \u001b[38;5;28;01mimport\u001b[39;00m Booster, Dataset, Sequence, register_logger\n\u001b[1;32m      9\u001b[0m \u001b[38;5;28;01mfrom\u001b[39;00m \u001b[38;5;21;01m.\u001b[39;00m\u001b[38;5;21;01mcallback\u001b[39;00m \u001b[38;5;28;01mimport\u001b[39;00m early_stopping, log_evaluation, record_evaluation, reset_parameter\n\u001b[1;32m     10\u001b[0m \u001b[38;5;28;01mfrom\u001b[39;00m \u001b[38;5;21;01m.\u001b[39;00m\u001b[38;5;21;01mengine\u001b[39;00m \u001b[38;5;28;01mimport\u001b[39;00m CVBooster, cv, train\n",
      "File \u001b[0;32m/opt/anaconda3/lib/python3.9/site-packages/lightgbm/basic.py:226\u001b[0m\n\u001b[1;32m    224\u001b[0m     _LIB \u001b[38;5;241m=\u001b[39m Mock(ctypes\u001b[38;5;241m.\u001b[39mCDLL)  \u001b[38;5;66;03m# type: ignore\u001b[39;00m\n\u001b[1;32m    225\u001b[0m \u001b[38;5;28;01melse\u001b[39;00m:\n\u001b[0;32m--> 226\u001b[0m     _LIB \u001b[38;5;241m=\u001b[39m \u001b[43m_load_lib\u001b[49m\u001b[43m(\u001b[49m\u001b[43m)\u001b[49m\n\u001b[1;32m    229\u001b[0m _NUMERIC_TYPES \u001b[38;5;241m=\u001b[39m (\u001b[38;5;28mint\u001b[39m, \u001b[38;5;28mfloat\u001b[39m, \u001b[38;5;28mbool\u001b[39m)\n\u001b[1;32m    230\u001b[0m _ArrayLike \u001b[38;5;241m=\u001b[39m Union[List, np\u001b[38;5;241m.\u001b[39mndarray, pd_Series]\n",
      "File \u001b[0;32m/opt/anaconda3/lib/python3.9/site-packages/lightgbm/basic.py:211\u001b[0m, in \u001b[0;36m_load_lib\u001b[0;34m()\u001b[0m\n\u001b[1;32m    209\u001b[0m \u001b[38;5;250m\u001b[39m\u001b[38;5;124;03m\"\"\"Load LightGBM library.\"\"\"\u001b[39;00m\n\u001b[1;32m    210\u001b[0m lib_path \u001b[38;5;241m=\u001b[39m find_lib_path()\n\u001b[0;32m--> 211\u001b[0m lib \u001b[38;5;241m=\u001b[39m \u001b[43mctypes\u001b[49m\u001b[38;5;241;43m.\u001b[39;49m\u001b[43mcdll\u001b[49m\u001b[38;5;241;43m.\u001b[39;49m\u001b[43mLoadLibrary\u001b[49m\u001b[43m(\u001b[49m\u001b[43mlib_path\u001b[49m\u001b[43m[\u001b[49m\u001b[38;5;241;43m0\u001b[39;49m\u001b[43m]\u001b[49m\u001b[43m)\u001b[49m\n\u001b[1;32m    212\u001b[0m lib\u001b[38;5;241m.\u001b[39mLGBM_GetLastError\u001b[38;5;241m.\u001b[39mrestype \u001b[38;5;241m=\u001b[39m ctypes\u001b[38;5;241m.\u001b[39mc_char_p\n\u001b[1;32m    213\u001b[0m callback \u001b[38;5;241m=\u001b[39m ctypes\u001b[38;5;241m.\u001b[39mCFUNCTYPE(\u001b[38;5;28;01mNone\u001b[39;00m, ctypes\u001b[38;5;241m.\u001b[39mc_char_p)\n",
      "File \u001b[0;32m/opt/anaconda3/lib/python3.9/ctypes/__init__.py:460\u001b[0m, in \u001b[0;36mLibraryLoader.LoadLibrary\u001b[0;34m(self, name)\u001b[0m\n\u001b[1;32m    459\u001b[0m \u001b[38;5;28;01mdef\u001b[39;00m \u001b[38;5;21mLoadLibrary\u001b[39m(\u001b[38;5;28mself\u001b[39m, name):\n\u001b[0;32m--> 460\u001b[0m     \u001b[38;5;28;01mreturn\u001b[39;00m \u001b[38;5;28;43mself\u001b[39;49m\u001b[38;5;241;43m.\u001b[39;49m\u001b[43m_dlltype\u001b[49m\u001b[43m(\u001b[49m\u001b[43mname\u001b[49m\u001b[43m)\u001b[49m\n",
      "File \u001b[0;32m/opt/anaconda3/lib/python3.9/ctypes/__init__.py:382\u001b[0m, in \u001b[0;36mCDLL.__init__\u001b[0;34m(self, name, mode, handle, use_errno, use_last_error, winmode)\u001b[0m\n\u001b[1;32m    379\u001b[0m \u001b[38;5;28mself\u001b[39m\u001b[38;5;241m.\u001b[39m_FuncPtr \u001b[38;5;241m=\u001b[39m _FuncPtr\n\u001b[1;32m    381\u001b[0m \u001b[38;5;28;01mif\u001b[39;00m handle \u001b[38;5;129;01mis\u001b[39;00m \u001b[38;5;28;01mNone\u001b[39;00m:\n\u001b[0;32m--> 382\u001b[0m     \u001b[38;5;28mself\u001b[39m\u001b[38;5;241m.\u001b[39m_handle \u001b[38;5;241m=\u001b[39m \u001b[43m_dlopen\u001b[49m\u001b[43m(\u001b[49m\u001b[38;5;28;43mself\u001b[39;49m\u001b[38;5;241;43m.\u001b[39;49m\u001b[43m_name\u001b[49m\u001b[43m,\u001b[49m\u001b[43m \u001b[49m\u001b[43mmode\u001b[49m\u001b[43m)\u001b[49m\n\u001b[1;32m    383\u001b[0m \u001b[38;5;28;01melse\u001b[39;00m:\n\u001b[1;32m    384\u001b[0m     \u001b[38;5;28mself\u001b[39m\u001b[38;5;241m.\u001b[39m_handle \u001b[38;5;241m=\u001b[39m handle\n",
      "\u001b[0;31mOSError\u001b[0m: dlopen(/opt/anaconda3/lib/python3.9/site-packages/lightgbm/lib/lib_lightgbm.so, 6): Library not loaded: /usr/local/opt/libomp/lib/libomp.dylib\n  Referenced from: /opt/anaconda3/lib/python3.9/site-packages/lightgbm/lib/lib_lightgbm.so\n  Reason: image not found"
     ]
    }
   ],
   "source": [
    "#Importation of required libraries\n",
    "import numpy as np\n",
    "import pandas as pd\n",
    "import matplotlib.pyplot as plt\n",
    "import seaborn as sns\n",
    "\n",
    "sns.set()\n",
    "\n",
    "from mlxtend.plotting import plot_decision_regions\n",
    "import missingno as msno\n",
    "from pandas.plotting import scatter_matrix\n",
    "from sklearn.preprocessing import scale, StandardScaler\n",
    "from sklearn.model_selection import train_test_split, GridSearchCV, cross_val_score\n",
    "from sklearn.metrics import confusion_matrix, accuracy_score, mean_squared_error, r2_score, roc_auc_score, roc_curve, classification_report\n",
    "from sklearn.linear_model import LogisticRegression\n",
    "from sklearn.neighbors import KNeighborsClassifier\n",
    "from sklearn.svm import SVC\n",
    "from sklearn.neural_network import MLPClassifier\n",
    "from sklearn.tree import DecisionTreeClassifier\n",
    "from sklearn.ensemble import RandomForestClassifier\n",
    "from sklearn.ensemble import GradientBoostingClassifier\n",
    "from lightgbm import LGBMClassifier\n",
    "from sklearn.model_selection import KFold\n",
    "\n",
    "from sklearn.metrics import confusion_matrix\n",
    "from sklearn import metrics\n",
    "from sklearn.metrics import classification_report\n",
    "import warnings\n",
    "warnings.filterwarnings('ignore')\n",
    "%matplotlib inline                "
   ]
  },
  {
   "cell_type": "markdown",
   "id": "ada6124b-e8bd-4f54-9492-1b5d5cf54678",
   "metadata": {},
   "source": [
    "# 2. Quick look at the dataset"
   ]
  },
  {
   "cell_type": "code",
   "execution_count": 12,
   "id": "0cea89da-21a5-4569-824d-91f552687524",
   "metadata": {},
   "outputs": [],
   "source": [
    "#Read dataset\n",
    "diabetes_df = pd.read_csv('/Users/cegrib/Downloads/diabetes-3.csv')    "
   ]
  },
  {
   "cell_type": "code",
   "execution_count": 13,
   "id": "5cb6e58d-b5c2-4b19-ae12-8e1bca8b8514",
   "metadata": {},
   "outputs": [
    {
     "data": {
      "text/html": [
       "<div>\n",
       "<style scoped>\n",
       "    .dataframe tbody tr th:only-of-type {\n",
       "        vertical-align: middle;\n",
       "    }\n",
       "\n",
       "    .dataframe tbody tr th {\n",
       "        vertical-align: top;\n",
       "    }\n",
       "\n",
       "    .dataframe thead th {\n",
       "        text-align: right;\n",
       "    }\n",
       "</style>\n",
       "<table border=\"1\" class=\"dataframe\">\n",
       "  <thead>\n",
       "    <tr style=\"text-align: right;\">\n",
       "      <th></th>\n",
       "      <th>Pregnancies</th>\n",
       "      <th>Glucose</th>\n",
       "      <th>BloodPressure</th>\n",
       "      <th>SkinThickness</th>\n",
       "      <th>Insulin</th>\n",
       "      <th>BMI</th>\n",
       "      <th>DiabetesPedigreeFunction</th>\n",
       "      <th>Age</th>\n",
       "      <th>Outcome</th>\n",
       "    </tr>\n",
       "  </thead>\n",
       "  <tbody>\n",
       "    <tr>\n",
       "      <th>0</th>\n",
       "      <td>6</td>\n",
       "      <td>148</td>\n",
       "      <td>72</td>\n",
       "      <td>35</td>\n",
       "      <td>0</td>\n",
       "      <td>33.6</td>\n",
       "      <td>0.627</td>\n",
       "      <td>50</td>\n",
       "      <td>1</td>\n",
       "    </tr>\n",
       "    <tr>\n",
       "      <th>1</th>\n",
       "      <td>1</td>\n",
       "      <td>85</td>\n",
       "      <td>66</td>\n",
       "      <td>29</td>\n",
       "      <td>0</td>\n",
       "      <td>26.6</td>\n",
       "      <td>0.351</td>\n",
       "      <td>31</td>\n",
       "      <td>0</td>\n",
       "    </tr>\n",
       "    <tr>\n",
       "      <th>2</th>\n",
       "      <td>8</td>\n",
       "      <td>183</td>\n",
       "      <td>64</td>\n",
       "      <td>0</td>\n",
       "      <td>0</td>\n",
       "      <td>23.3</td>\n",
       "      <td>0.672</td>\n",
       "      <td>32</td>\n",
       "      <td>1</td>\n",
       "    </tr>\n",
       "    <tr>\n",
       "      <th>3</th>\n",
       "      <td>1</td>\n",
       "      <td>89</td>\n",
       "      <td>66</td>\n",
       "      <td>23</td>\n",
       "      <td>94</td>\n",
       "      <td>28.1</td>\n",
       "      <td>0.167</td>\n",
       "      <td>21</td>\n",
       "      <td>0</td>\n",
       "    </tr>\n",
       "    <tr>\n",
       "      <th>4</th>\n",
       "      <td>0</td>\n",
       "      <td>137</td>\n",
       "      <td>40</td>\n",
       "      <td>35</td>\n",
       "      <td>168</td>\n",
       "      <td>43.1</td>\n",
       "      <td>2.288</td>\n",
       "      <td>33</td>\n",
       "      <td>1</td>\n",
       "    </tr>\n",
       "  </tbody>\n",
       "</table>\n",
       "</div>"
      ],
      "text/plain": [
       "   Pregnancies  Glucose  BloodPressure  SkinThickness  Insulin   BMI   \n",
       "0            6      148             72             35        0  33.6  \\\n",
       "1            1       85             66             29        0  26.6   \n",
       "2            8      183             64              0        0  23.3   \n",
       "3            1       89             66             23       94  28.1   \n",
       "4            0      137             40             35      168  43.1   \n",
       "\n",
       "   DiabetesPedigreeFunction  Age  Outcome  \n",
       "0                     0.627   50        1  \n",
       "1                     0.351   31        0  \n",
       "2                     0.672   32        1  \n",
       "3                     0.167   21        0  \n",
       "4                     2.288   33        1  "
      ]
     },
     "execution_count": 13,
     "metadata": {},
     "output_type": "execute_result"
    }
   ],
   "source": [
    "diabetes_df.head()    "
   ]
  },
  {
   "cell_type": "code",
   "execution_count": 14,
   "id": "db6b2f83-2aab-451c-b1c5-8d3ed32bd0e0",
   "metadata": {},
   "outputs": [
    {
     "data": {
      "text/plain": [
       "Index(['Pregnancies', 'Glucose', 'BloodPressure', 'SkinThickness', 'Insulin',\n",
       "       'BMI', 'DiabetesPedigreeFunction', 'Age', 'Outcome'],\n",
       "      dtype='object')"
      ]
     },
     "execution_count": 14,
     "metadata": {},
     "output_type": "execute_result"
    }
   ],
   "source": [
    "#Let's see available columns and info about the dataset\n",
    "diabetes_df.columns     "
   ]
  },
  {
   "cell_type": "code",
   "execution_count": 15,
   "id": "fc242036-8ea2-4750-9eb8-754aebb9c1b5",
   "metadata": {},
   "outputs": [
    {
     "name": "stdout",
     "output_type": "stream",
     "text": [
      "<class 'pandas.core.frame.DataFrame'>\n",
      "RangeIndex: 768 entries, 0 to 767\n",
      "Data columns (total 9 columns):\n",
      " #   Column                    Non-Null Count  Dtype  \n",
      "---  ------                    --------------  -----  \n",
      " 0   Pregnancies               768 non-null    int64  \n",
      " 1   Glucose                   768 non-null    int64  \n",
      " 2   BloodPressure             768 non-null    int64  \n",
      " 3   SkinThickness             768 non-null    int64  \n",
      " 4   Insulin                   768 non-null    int64  \n",
      " 5   BMI                       768 non-null    float64\n",
      " 6   DiabetesPedigreeFunction  768 non-null    float64\n",
      " 7   Age                       768 non-null    int64  \n",
      " 8   Outcome                   768 non-null    int64  \n",
      "dtypes: float64(2), int64(7)\n",
      "memory usage: 54.1 KB\n"
     ]
    }
   ],
   "source": [
    "diabetes_df.info ()   "
   ]
  },
  {
   "cell_type": "code",
   "execution_count": 16,
   "id": "29dcff65-a81d-43f2-a4c0-36cea7acfdf5",
   "metadata": {},
   "outputs": [
    {
     "data": {
      "text/html": [
       "<div>\n",
       "<style scoped>\n",
       "    .dataframe tbody tr th:only-of-type {\n",
       "        vertical-align: middle;\n",
       "    }\n",
       "\n",
       "    .dataframe tbody tr th {\n",
       "        vertical-align: top;\n",
       "    }\n",
       "\n",
       "    .dataframe thead th {\n",
       "        text-align: right;\n",
       "    }\n",
       "</style>\n",
       "<table border=\"1\" class=\"dataframe\">\n",
       "  <thead>\n",
       "    <tr style=\"text-align: right;\">\n",
       "      <th></th>\n",
       "      <th>count</th>\n",
       "      <th>mean</th>\n",
       "      <th>std</th>\n",
       "      <th>min</th>\n",
       "      <th>25%</th>\n",
       "      <th>50%</th>\n",
       "      <th>75%</th>\n",
       "      <th>max</th>\n",
       "    </tr>\n",
       "  </thead>\n",
       "  <tbody>\n",
       "    <tr>\n",
       "      <th>Pregnancies</th>\n",
       "      <td>768.0</td>\n",
       "      <td>3.845052</td>\n",
       "      <td>3.369578</td>\n",
       "      <td>0.000</td>\n",
       "      <td>1.00000</td>\n",
       "      <td>3.0000</td>\n",
       "      <td>6.00000</td>\n",
       "      <td>17.00</td>\n",
       "    </tr>\n",
       "    <tr>\n",
       "      <th>Glucose</th>\n",
       "      <td>768.0</td>\n",
       "      <td>120.894531</td>\n",
       "      <td>31.972618</td>\n",
       "      <td>0.000</td>\n",
       "      <td>99.00000</td>\n",
       "      <td>117.0000</td>\n",
       "      <td>140.25000</td>\n",
       "      <td>199.00</td>\n",
       "    </tr>\n",
       "    <tr>\n",
       "      <th>BloodPressure</th>\n",
       "      <td>768.0</td>\n",
       "      <td>69.105469</td>\n",
       "      <td>19.355807</td>\n",
       "      <td>0.000</td>\n",
       "      <td>62.00000</td>\n",
       "      <td>72.0000</td>\n",
       "      <td>80.00000</td>\n",
       "      <td>122.00</td>\n",
       "    </tr>\n",
       "    <tr>\n",
       "      <th>SkinThickness</th>\n",
       "      <td>768.0</td>\n",
       "      <td>20.536458</td>\n",
       "      <td>15.952218</td>\n",
       "      <td>0.000</td>\n",
       "      <td>0.00000</td>\n",
       "      <td>23.0000</td>\n",
       "      <td>32.00000</td>\n",
       "      <td>99.00</td>\n",
       "    </tr>\n",
       "    <tr>\n",
       "      <th>Insulin</th>\n",
       "      <td>768.0</td>\n",
       "      <td>79.799479</td>\n",
       "      <td>115.244002</td>\n",
       "      <td>0.000</td>\n",
       "      <td>0.00000</td>\n",
       "      <td>30.5000</td>\n",
       "      <td>127.25000</td>\n",
       "      <td>846.00</td>\n",
       "    </tr>\n",
       "    <tr>\n",
       "      <th>BMI</th>\n",
       "      <td>768.0</td>\n",
       "      <td>31.992578</td>\n",
       "      <td>7.884160</td>\n",
       "      <td>0.000</td>\n",
       "      <td>27.30000</td>\n",
       "      <td>32.0000</td>\n",
       "      <td>36.60000</td>\n",
       "      <td>67.10</td>\n",
       "    </tr>\n",
       "    <tr>\n",
       "      <th>DiabetesPedigreeFunction</th>\n",
       "      <td>768.0</td>\n",
       "      <td>0.471876</td>\n",
       "      <td>0.331329</td>\n",
       "      <td>0.078</td>\n",
       "      <td>0.24375</td>\n",
       "      <td>0.3725</td>\n",
       "      <td>0.62625</td>\n",
       "      <td>2.42</td>\n",
       "    </tr>\n",
       "    <tr>\n",
       "      <th>Age</th>\n",
       "      <td>768.0</td>\n",
       "      <td>33.240885</td>\n",
       "      <td>11.760232</td>\n",
       "      <td>21.000</td>\n",
       "      <td>24.00000</td>\n",
       "      <td>29.0000</td>\n",
       "      <td>41.00000</td>\n",
       "      <td>81.00</td>\n",
       "    </tr>\n",
       "    <tr>\n",
       "      <th>Outcome</th>\n",
       "      <td>768.0</td>\n",
       "      <td>0.348958</td>\n",
       "      <td>0.476951</td>\n",
       "      <td>0.000</td>\n",
       "      <td>0.00000</td>\n",
       "      <td>0.0000</td>\n",
       "      <td>1.00000</td>\n",
       "      <td>1.00</td>\n",
       "    </tr>\n",
       "  </tbody>\n",
       "</table>\n",
       "</div>"
      ],
      "text/plain": [
       "                          count        mean         std     min       25%   \n",
       "Pregnancies               768.0    3.845052    3.369578   0.000   1.00000  \\\n",
       "Glucose                   768.0  120.894531   31.972618   0.000  99.00000   \n",
       "BloodPressure             768.0   69.105469   19.355807   0.000  62.00000   \n",
       "SkinThickness             768.0   20.536458   15.952218   0.000   0.00000   \n",
       "Insulin                   768.0   79.799479  115.244002   0.000   0.00000   \n",
       "BMI                       768.0   31.992578    7.884160   0.000  27.30000   \n",
       "DiabetesPedigreeFunction  768.0    0.471876    0.331329   0.078   0.24375   \n",
       "Age                       768.0   33.240885   11.760232  21.000  24.00000   \n",
       "Outcome                   768.0    0.348958    0.476951   0.000   0.00000   \n",
       "\n",
       "                               50%        75%     max  \n",
       "Pregnancies                 3.0000    6.00000   17.00  \n",
       "Glucose                   117.0000  140.25000  199.00  \n",
       "BloodPressure              72.0000   80.00000  122.00  \n",
       "SkinThickness              23.0000   32.00000   99.00  \n",
       "Insulin                    30.5000  127.25000  846.00  \n",
       "BMI                        32.0000   36.60000   67.10  \n",
       "DiabetesPedigreeFunction    0.3725    0.62625    2.42  \n",
       "Age                        29.0000   41.00000   81.00  \n",
       "Outcome                     0.0000    1.00000    1.00  "
      ]
     },
     "execution_count": 16,
     "metadata": {},
     "output_type": "execute_result"
    }
   ],
   "source": [
    "diabetes_df.describe().T    "
   ]
  },
  {
   "cell_type": "markdown",
   "id": "29a9ddd5",
   "metadata": {},
   "source": [
    "# Part II : Preprocessing & Feature Engineering"
   ]
  },
  {
   "cell_type": "markdown",
   "id": "0efa25cc",
   "metadata": {},
   "source": [
    "You need to perform preprocessing on the given dataset. Please consider the following tasks and carry out the necessary steps accordingly.\n",
    "- Handling missing values\n",
    "- Handling outliers\n",
    "- Scaling and normalization\n",
    "- Feature Engineering\n",
    "- Handling imbalanced data"
   ]
  },
  {
   "cell_type": "code",
   "execution_count": 18,
   "id": "8e2e83a3-2440-4cdc-a8e8-73ed80d5e023",
   "metadata": {},
   "outputs": [
    {
     "data": {
      "text/plain": [
       "Pregnancies                 0\n",
       "Glucose                     0\n",
       "BloodPressure               0\n",
       "SkinThickness               0\n",
       "Insulin                     0\n",
       "BMI                         0\n",
       "DiabetesPedigreeFunction    0\n",
       "Age                         0\n",
       "Outcome                     0\n",
       "dtype: int64"
      ]
     },
     "execution_count": 18,
     "metadata": {},
     "output_type": "execute_result"
    }
   ],
   "source": [
    "#Check for nulls\n",
    "diabetes_df.isnull().sum()      "
   ]
  },
  {
   "cell_type": "markdown",
   "id": "2418b039-0617-41ae-bc7d-9e7191842605",
   "metadata": {},
   "source": [
    "Here, it appears there are no missing values. However, when we viewed the dataset earlier in [5], we saw that missing values had been replaced with 0, which is not biological correct in most cases. To address this, we will replace 0 value with NaN."
   ]
  },
  {
   "cell_type": "code",
   "execution_count": 19,
   "id": "4a2aaabe-9f78-43e8-8ee0-e6cbca45499a",
   "metadata": {},
   "outputs": [
    {
     "data": {
      "image/png": "[encoded data removed]",
      "text/plain": [
       "<Figure size 1000x1000 with 9 Axes>"
      ]
     },
     "metadata": {},
     "output_type": "display_data"
    }
   ],
   "source": [
    "#Data distribution plots before removing or replacing nulls\n",
    "\n",
    "p = diabetes_df.hist(figsize = (10,10))        "
   ]
  },
  {
   "cell_type": "code",
   "execution_count": 20,
   "id": "29b4e339-8a69-4603-88b6-84a4e969f63c",
   "metadata": {},
   "outputs": [],
   "source": [
    "#Replace null values in a column with the mean value of that particular column\n",
    "diabetes_df_new['Glucose'].fillna(diabetes_df_new['Glucose'].mean(), inplace = True)\n",
    "diabetes_df_new['BloodPressure'].fillna(diabetes_df_new['BloodPressure'].mean(), inplace = True)\n",
    "diabetes_df_new['SkinThickness'].fillna(diabetes_df_new['SkinThickness'].median(), inplace = True)\n",
    "diabetes_df_new['Insulin'].fillna(diabetes_df_new['Insulin'].median(), inplace = True)\n",
    "diabetes_df_new['BMI'].fillna(diabetes_df_new['BMI'].median(), inplace = True)     "
   ]
  },
  {
   "cell_type": "code",
   "execution_count": 21,
   "id": "9f9349fb-0545-4c1a-91fd-44800abcb2be",
   "metadata": {},
   "outputs": [
    {
     "data": {
      "image/png": "[encoded data removed]",
      "text/plain": [
       "<Figure size 1000x1000 with 9 Axes>"
      ]
     },
     "metadata": {},
     "output_type": "display_data"
    }
   ],
   "source": [
    "#Replot data distribution after replacing nulls with mean values\n",
    "p = diabetes_df_new.hist(figsize = (10,10))         "
   ]
  },
  {
   "cell_type": "code",
   "execution_count": 22,
   "id": "a511d0ec-0475-4287-9987-f3d68277303f",
   "metadata": {},
   "outputs": [
    {
     "data": {
      "text/plain": [
       "Pregnancies                 0\n",
       "Glucose                     0\n",
       "BloodPressure               0\n",
       "SkinThickness               0\n",
       "Insulin                     0\n",
       "BMI                         0\n",
       "DiabetesPedigreeFunction    0\n",
       "Age                         0\n",
       "Outcome                     0\n",
       "dtype: int64"
      ]
     },
     "execution_count": 22,
     "metadata": {},
     "output_type": "execute_result"
    }
   ],
   "source": [
    "#Final Null Count Analysis\n",
    "diabetes_df_new.isnull().sum()        "
   ]
  },
  {
   "cell_type": "code",
   "execution_count": 23,
   "id": "6bb133e7-e8ae-4610-9ff7-4bd3f363d300",
   "metadata": {},
   "outputs": [
    {
     "name": "stdout",
     "output_type": "stream",
     "text": [
      "Outcome\n",
      "0    500\n",
      "1    268\n",
      "Name: count, dtype: int64\n"
     ]
    },
    {
     "data": {
      "image/png": "[encoded data removed]",
      "text/plain": [
       "<Figure size 640x480 with 1 Axes>"
      ]
     },
     "metadata": {},
     "output_type": "display_data"
    }
   ],
   "source": [
    "# Now let's check amd visualize the distribution of the outcome variable in the data.\n",
    "# Outcome countplot\n",
    "sns.countplot(x = 'Outcome',data = diabetes_df_new) \n",
    "print(diabetes_df_new.Outcome.value_counts())       "
   ]
  },
  {
   "cell_type": "markdown",
   "id": "d690924e-4e39-46e1-8fdc-8da4a0ae3ff4",
   "metadata": {},
   "source": [
    "The dataset seems imbalance at 500:268; number of patients with 1 (diabetic) is almost half the patients with 0 (non-diabetic)."
   ]
  },
  {
   "cell_type": "code",
   "execution_count": 25,
   "id": "1a1ff018-4d4d-48fc-bd6a-ea6d92f357a8",
   "metadata": {},
   "outputs": [
    {
     "data": {
      "image/png": "[encoded data removed]",
      "text/plain": [
       "<Figure size 1000x800 with 2 Axes>"
      ]
     },
     "metadata": {},
     "output_type": "display_data"
    }
   ],
   "source": [
    "# Correlation matrix graph of the dataset\n",
    "f, ax = plt.subplots(figsize= [10,8])\n",
    "sns.heatmap(diabetes_df_new.corr(), annot=True, fmt=\".2f\", ax=ax, cmap = \"Wistia\" )\n",
    "ax.set_title(\"Correlation Matrix\", fontsize=20)\n",
    "plt.show()  "
   ]
  },
  {
   "cell_type": "markdown",
   "id": "d3499048-d62b-4d5a-af77-056e072b72e0",
   "metadata": {},
   "source": [
    "Observations show that characteristics like pregnancy, glucose, BMI, and age are more closely associated with outcomes. I demonstrated a detailed illustration of these aspects in the following phases. "
   ]
  },
  {
   "cell_type": "code",
   "execution_count": 33,
   "id": "4bd99620-3c75-4af7-a6a8-88afcedfd577",
   "metadata": {},
   "outputs": [
    {
     "name": "stderr",
     "output_type": "stream",
     "text": [
      "/var/folders/5y/shv4cc7n29l9tzfd_bmgt__c0000gn/T/ipykernel_1475/4003232920.py:6: FutureWarning: \n",
      "\n",
      "`shade` is now deprecated in favor of `fill`; setting `fill=True`.\n",
      "This will become an error in seaborn v0.14.0; please update your code.\n",
      "\n",
      "  kde = sns.kdeplot(diabetes_df_new[\"Pregnancies\"][diabetes_df_new[\"Outcome\"] == 1], color = \"Magenta\", shade = True)\n",
      "/var/folders/5y/shv4cc7n29l9tzfd_bmgt__c0000gn/T/ipykernel_1475/4003232920.py:7: FutureWarning: \n",
      "\n",
      "`shade` is now deprecated in favor of `fill`; setting `fill=True`.\n",
      "This will become an error in seaborn v0.14.0; please update your code.\n",
      "\n",
      "  kde = sns.kdeplot(diabetes_df_new[\"Pregnancies\"][diabetes_df_new[\"Outcome\"] == 0], ax = kde, color = \"Blue\", shade= True)\n"
     ]
    },
    {
     "data": {
      "text/plain": [
       "<matplotlib.legend.Legend at 0x7fae91e54970>"
      ]
     },
     "execution_count": 33,
     "metadata": {},
     "output_type": "execute_result"
    },
    {
     "data": {
      "image/png": "[encoded data removed]",
      "text/plain": [
       "<Figure size 1000x800 with 1 Axes>"
      ]
     },
     "metadata": {},
     "output_type": "display_data"
    }
   ],
   "source": [
    "# Exploring Pregnancy and target variables together  \n",
    "  \n",
    "plt.figure(figsize = (10, 8))  \n",
    "  \n",
    "# Plotting density function graph of the pregnancies and the target variable  \n",
    "kde = sns.kdeplot(diabetes_df_new[\"Pregnancies\"][diabetes_df_new[\"Outcome\"] == 1], color = \"Magenta\", shade = True)  \n",
    "kde = sns.kdeplot(diabetes_df_new[\"Pregnancies\"][diabetes_df_new[\"Outcome\"] == 0], ax = kde, color = \"Blue\", shade= True)  \n",
    "kde.set_xlabel(\"Pregnancies\")  \n",
    "kde.set_ylabel(\"Density\")  \n",
    "kde.legend([\"Positive Result\", \"Negative Result\"])          "
   ]
  },
  {
   "cell_type": "markdown",
   "id": "c3299606-3174-46ea-9c5c-1553840e67aa",
   "metadata": {},
   "source": [
    "According to the data, there is no evidence that women having diabetes have birth complications. However, the risk for future complications can be decreased by managing diabetes. The risk of pregnancy issues, such as hypertension, depression, preterm birth, birth abnormalities, and pregnancy loss, is increased if women have uncontrolled diabetes."
   ]
  },
  {
   "cell_type": "code",
   "execution_count": 35,
   "id": "025e37ca-5dde-440e-8a19-5249ddd6f262",
   "metadata": {},
   "outputs": [
    {
     "data": {
      "text/plain": [
       "<Axes: xlabel='Outcome', ylabel='Glucose'>"
      ]
     },
     "execution_count": 35,
     "metadata": {},
     "output_type": "execute_result"
    },
    {
     "data": {
      "image/png": "[encoded data removed]",
      "text/plain": [
       "<Figure size 1000x800 with 1 Axes>"
      ]
     },
     "metadata": {},
     "output_type": "display_data"
    }
   ],
   "source": [
    "# Exploring the Glucose and the Target variables together  \n",
    "plt.figure(figsize = (10, 8))  \n",
    "sns.violinplot(data = diabetes_df_new, x = \"Outcome\", y = \"Glucose\",  \n",
    "               split = True, inner = \"quart\", linewidth = 2)    "
   ]
  },
  {
   "cell_type": "code",
   "execution_count": null,
   "id": "0d400f8b-4f15-4a86-8289-b53033984dd5",
   "metadata": {},
   "outputs": [],
   "source": [
    "The likelihood of developing diabetes increases with glucose levels."
   ]
  },
  {
   "cell_type": "markdown",
   "id": "d9058145-0f96-4685-b18b-0c1c67b4f935",
   "metadata": {},
   "source": [
    "# 3. Transforming the data into quartiles "
   ]
  },
  {
   "cell_type": "code",
   "execution_count": 42,
   "id": "17283669-708d-40aa-8c6f-9e859313221a",
   "metadata": {},
   "outputs": [],
   "source": [
    "from sklearn.preprocessing import QuantileTransformer "
   ]
  },
  {
   "cell_type": "code",
   "execution_count": 44,
   "id": "e1b19172-8d34-4197-a047-e3dfc3f23095",
   "metadata": {},
   "outputs": [
    {
     "name": "stderr",
     "output_type": "stream",
     "text": [
      "/opt/anaconda3/lib/python3.9/site-packages/sklearn/preprocessing/_data.py:2663: UserWarning: n_quantiles (1000) is greater than the total number of samples (768). n_quantiles is set to n_samples.\n",
      "  warnings.warn(\n",
      "/opt/anaconda3/lib/python3.9/site-packages/sklearn/base.py:465: UserWarning: X does not have valid feature names, but QuantileTransformer was fitted with feature names\n",
      "  warnings.warn(\n"
     ]
    },
    {
     "data": {
      "text/html": [
       "<div>\n",
       "<style scoped>\n",
       "    .dataframe tbody tr th:only-of-type {\n",
       "        vertical-align: middle;\n",
       "    }\n",
       "\n",
       "    .dataframe tbody tr th {\n",
       "        vertical-align: top;\n",
       "    }\n",
       "\n",
       "    .dataframe thead th {\n",
       "        text-align: right;\n",
       "    }\n",
       "</style>\n",
       "<table border=\"1\" class=\"dataframe\">\n",
       "  <thead>\n",
       "    <tr style=\"text-align: right;\">\n",
       "      <th></th>\n",
       "      <th>Pregnancies</th>\n",
       "      <th>Glucose</th>\n",
       "      <th>BloodPressure</th>\n",
       "      <th>SkinThickness</th>\n",
       "      <th>Insulin</th>\n",
       "      <th>BMI</th>\n",
       "      <th>DiabetesPedigreeFunction</th>\n",
       "      <th>Age</th>\n",
       "      <th>Outcome</th>\n",
       "    </tr>\n",
       "  </thead>\n",
       "  <tbody>\n",
       "    <tr>\n",
       "      <th>0</th>\n",
       "      <td>0.747718</td>\n",
       "      <td>0.810300</td>\n",
       "      <td>0.516949</td>\n",
       "      <td>0.801825</td>\n",
       "      <td>0.000000</td>\n",
       "      <td>0.591265</td>\n",
       "      <td>0.750978</td>\n",
       "      <td>0.889831</td>\n",
       "      <td>1.0</td>\n",
       "    </tr>\n",
       "    <tr>\n",
       "      <th>1</th>\n",
       "      <td>0.232725</td>\n",
       "      <td>0.097784</td>\n",
       "      <td>0.336375</td>\n",
       "      <td>0.644720</td>\n",
       "      <td>0.000000</td>\n",
       "      <td>0.227510</td>\n",
       "      <td>0.475880</td>\n",
       "      <td>0.558670</td>\n",
       "      <td>0.0</td>\n",
       "    </tr>\n",
       "    <tr>\n",
       "      <th>2</th>\n",
       "      <td>0.863755</td>\n",
       "      <td>0.956975</td>\n",
       "      <td>0.279009</td>\n",
       "      <td>0.000000</td>\n",
       "      <td>0.000000</td>\n",
       "      <td>0.091917</td>\n",
       "      <td>0.782269</td>\n",
       "      <td>0.585398</td>\n",
       "      <td>1.0</td>\n",
       "    </tr>\n",
       "    <tr>\n",
       "      <th>3</th>\n",
       "      <td>0.232725</td>\n",
       "      <td>0.131030</td>\n",
       "      <td>0.336375</td>\n",
       "      <td>0.505867</td>\n",
       "      <td>0.662973</td>\n",
       "      <td>0.298566</td>\n",
       "      <td>0.106258</td>\n",
       "      <td>0.000000</td>\n",
       "      <td>0.0</td>\n",
       "    </tr>\n",
       "    <tr>\n",
       "      <th>4</th>\n",
       "      <td>0.000000</td>\n",
       "      <td>0.721643</td>\n",
       "      <td>0.050847</td>\n",
       "      <td>0.801825</td>\n",
       "      <td>0.834420</td>\n",
       "      <td>0.926988</td>\n",
       "      <td>0.997392</td>\n",
       "      <td>0.606258</td>\n",
       "      <td>1.0</td>\n",
       "    </tr>\n",
       "  </tbody>\n",
       "</table>\n",
       "</div>"
      ],
      "text/plain": [
       "   Pregnancies   Glucose  BloodPressure  SkinThickness   Insulin       BMI   \n",
       "0     0.747718  0.810300       0.516949       0.801825  0.000000  0.591265  \\\n",
       "1     0.232725  0.097784       0.336375       0.644720  0.000000  0.227510   \n",
       "2     0.863755  0.956975       0.279009       0.000000  0.000000  0.091917   \n",
       "3     0.232725  0.131030       0.336375       0.505867  0.662973  0.298566   \n",
       "4     0.000000  0.721643       0.050847       0.801825  0.834420  0.926988   \n",
       "\n",
       "   DiabetesPedigreeFunction       Age  Outcome  \n",
       "0                  0.750978  0.889831      1.0  \n",
       "1                  0.475880  0.558670      0.0  \n",
       "2                  0.782269  0.585398      1.0  \n",
       "3                  0.106258  0.000000      0.0  \n",
       "4                  0.997392  0.606258      1.0  "
      ]
     },
     "execution_count": 44,
     "metadata": {},
     "output_type": "execute_result"
    }
   ],
   "source": [
    "quartile  = QuantileTransformer()  \n",
    "X = quartile.fit_transform(diabetes_df_new)  \n",
    "dataset = quartile.transform(X)  \n",
    "dataset = pd.DataFrame(X)  \n",
    "dataset.columns =['Pregnancies', 'Glucose', 'BloodPressure', 'SkinThickness', 'Insulin', 'BMI', 'DiabetesPedigreeFunction', 'Age', 'Outcome']  \n",
    "# Showing the top 5 rows of the transformed dataset  \n",
    "dataset.head()     "
   ]
  },
  {
   "cell_type": "markdown",
   "id": "b9ef71e5-a4a5-4276-9c66-99199f925e8f",
   "metadata": {},
   "source": [
    "# 4. Outlier Analysis"
   ]
  },
  {
   "cell_type": "code",
   "execution_count": 45,
   "id": "01318bea-b4b4-4faf-a9db-51a369d611e1",
   "metadata": {},
   "outputs": [
    {
     "name": "stdout",
     "output_type": "stream",
     "text": [
      "Pregnancies yes\n",
      "Glucose no\n",
      "BloodPressure yes\n",
      "SkinThickness yes\n",
      "Insulin yes\n",
      "BMI yes\n",
      "DiabetesPedigreeFunction yes\n",
      "Age yes\n",
      "Outcome no\n"
     ]
    }
   ],
   "source": [
    "for feature in diabetes_df_new:\n",
    "    Q1 = diabetes_df_new[feature].quantile(0.25)\n",
    "    Q3 = diabetes_df_new[feature].quantile(0.75)\n",
    "    IQR = Q3-Q1\n",
    "    lower = Q1- 1.5*IQR\n",
    "    upper = Q3 + 1.5*IQR\n",
    "    \n",
    "    if diabetes_df_new[(diabetes_df_new[feature] > upper)].any(axis=None):\n",
    "        print(feature,\"yes\")\n",
    "    else:\n",
    "        print(feature, \"no\")   "
   ]
  },
  {
   "cell_type": "markdown",
   "id": "158aa64e-0b66-4227-bcc1-6c838ed0f42a",
   "metadata": {},
   "source": [
    "All the independent variables (except glucose) have outliers"
   ]
  },
  {
   "cell_type": "code",
   "execution_count": 46,
   "id": "903b769c-2558-4f1c-ab17-2e861076060b",
   "metadata": {},
   "outputs": [
    {
     "data": {
      "text/plain": [
       "array([ 1,  1,  1,  1,  1,  1,  1,  1,  1, -1,  1,  1,  1, -1,  1,  1,  1,\n",
       "        1, -1,  1,  1,  1,  1,  1,  1,  1,  1,  1,  1,  1,  1,  1,  1,  1,\n",
       "        1,  1,  1,  1,  1,  1,  1,  1,  1,  1,  1,  1,  1,  1,  1,  1,  1,\n",
       "        1,  1,  1,  1,  1,  1,  1,  1,  1,  1,  1, -1,  1,  1,  1,  1,  1,\n",
       "        1,  1,  1,  1,  1,  1,  1, -1,  1,  1,  1,  1,  1,  1,  1,  1, -1,\n",
       "        1,  1,  1,  1,  1,  1,  1,  1,  1,  1,  1,  1,  1,  1,  1,  1,  1,\n",
       "        1,  1,  1,  1, -1,  1,  1,  1,  1,  1,  1,  1,  1,  1,  1,  1,  1,\n",
       "        1,  1,  1,  1,  1,  1, -1,  1,  1,  1,  1,  1,  1,  1,  1,  1,  1,\n",
       "        1,  1,  1,  1,  1,  1,  1,  1,  1, -1,  1,  1,  1,  1,  1,  1,  1,\n",
       "        1,  1,  1,  1,  1,  1,  1,  1,  1,  1,  1,  1,  1,  1,  1,  1,  1,\n",
       "        1,  1,  1,  1,  1,  1,  1, -1,  1,  1,  1,  1, -1,  1,  1,  1,  1,\n",
       "        1,  1,  1,  1,  1,  1,  1,  1,  1,  1,  1,  1,  1,  1,  1,  1,  1,\n",
       "        1,  1,  1,  1,  1,  1,  1,  1,  1,  1,  1,  1,  1,  1,  1,  1,  1,\n",
       "        1,  1,  1,  1,  1,  1,  1, -1,  1,  1,  1,  1,  1,  1,  1,  1,  1,\n",
       "        1,  1,  1,  1,  1,  1,  1,  1,  1, -1,  1,  1,  1,  1,  1,  1,  1,\n",
       "        1,  1,  1,  1,  1,  1,  1,  1,  1,  1,  1,  1,  1,  1,  1,  1,  1,\n",
       "        1,  1,  1,  1,  1,  1,  1,  1,  1,  1,  1,  1,  1,  1,  1,  1,  1,\n",
       "        1,  1,  1,  1,  1,  1,  1,  1,  1,  1,  1,  1,  1,  1,  1,  1,  1,\n",
       "        1,  1,  1,  1,  1,  1,  1,  1,  1,  1,  1,  1,  1,  1,  1,  1,  1,\n",
       "        1,  1,  1,  1,  1,  1,  1,  1,  1, -1,  1,  1,  1,  1,  1,  1,  1,\n",
       "        1,  1, -1,  1,  1,  1,  1,  1,  1, -1,  1,  1,  1,  1,  1,  1,  1,\n",
       "        1,  1,  1,  1,  1, -1,  1,  1,  1,  1,  1,  1,  1,  1, -1,  1,  1,\n",
       "        1,  1,  1,  1,  1,  1,  1,  1,  1,  1,  1,  1,  1,  1,  1,  1,  1,\n",
       "        1,  1,  1,  1,  1,  1,  1,  1,  1,  1,  1,  1,  1,  1,  1,  1,  1,\n",
       "        1,  1,  1,  1,  1,  1,  1,  1,  1,  1,  1,  1,  1,  1,  1,  1,  1,\n",
       "        1,  1,  1,  1,  1,  1,  1,  1,  1,  1,  1,  1,  1,  1,  1,  1,  1,\n",
       "        1,  1,  1,  1,  1,  1,  1,  1,  1,  1,  1, -1,  1,  1,  1,  1,  1,\n",
       "       -1,  1,  1,  1,  1,  1,  1,  1,  1,  1,  1,  1,  1,  1,  1,  1,  1,\n",
       "        1,  1,  1,  1,  1,  1,  1,  1,  1,  1,  1,  1,  1,  1,  1,  1,  1,\n",
       "        1,  1,  1,  1,  1,  1,  1,  1,  1, -1,  1,  1,  1,  1,  1,  1,  1,\n",
       "        1,  1,  1,  1,  1,  1,  1,  1,  1,  1,  1,  1,  1,  1,  1,  1,  1,\n",
       "        1,  1,  1,  1,  1,  1,  1,  1,  1,  1, -1,  1,  1,  1,  1,  1,  1,\n",
       "        1,  1,  1,  1,  1,  1,  1,  1,  1,  1,  1,  1,  1,  1,  1,  1,  1,\n",
       "        1,  1,  1,  1,  1,  1,  1,  1,  1,  1,  1,  1,  1,  1,  1,  1,  1,\n",
       "        1, -1,  1,  1,  1,  1,  1,  1,  1,  1,  1,  1,  1,  1,  1,  1,  1,\n",
       "        1,  1, -1,  1,  1,  1,  1,  1,  1, -1,  1,  1,  1,  1,  1,  1,  1,\n",
       "        1,  1,  1,  1,  1,  1,  1,  1,  1,  1,  1,  1,  1,  1,  1,  1,  1,\n",
       "        1,  1,  1,  1,  1,  1,  1,  1,  1,  1,  1,  1,  1,  1,  1,  1,  1,\n",
       "        1,  1,  1,  1,  1,  1,  1,  1,  1,  1,  1,  1,  1,  1,  1,  1,  1,\n",
       "        1,  1,  1,  1,  1,  1,  1,  1,  1, -1,  1,  1,  1,  1,  1,  1,  1,\n",
       "        1,  1,  1,  1, -1,  1,  1,  1,  1,  1,  1,  1,  1,  1,  1,  1,  1,\n",
       "        1,  1,  1,  1,  1,  1,  1,  1,  1,  1,  1,  1,  1,  1,  1,  1,  1,\n",
       "        1,  1,  1,  1,  1,  1,  1,  1,  1,  1,  1,  1,  1,  1,  1,  1,  1,\n",
       "        1,  1,  1,  1,  1,  1,  1,  1,  1,  1,  1,  1,  1,  1,  1,  1,  1,\n",
       "        1,  1,  1,  1,  1,  1,  1,  1,  1,  1,  1,  1,  1,  1,  1,  1,  1,\n",
       "        1,  1,  1])"
      ]
     },
     "execution_count": 46,
     "metadata": {},
     "output_type": "execute_result"
    }
   ],
   "source": [
    "# Determine outliers between all variables with the LOF method\n",
    "from sklearn.neighbors import LocalOutlierFactor\n",
    "lof =LocalOutlierFactor(n_neighbors= 10)\n",
    "lof.fit_predict(diabetes_df_new)   "
   ]
  },
  {
   "cell_type": "code",
   "execution_count": 47,
   "id": "d5910e30-1d01-4047-bf2d-bc8c74fbf78c",
   "metadata": {},
   "outputs": [
    {
     "data": {
      "text/plain": [
       "array([-3.30445978, -2.48884101, -2.28758733, -2.10500141, -2.05369597,\n",
       "       -2.02885837, -2.01096252, -2.00720763, -1.98655427, -1.95338702,\n",
       "       -1.91601291, -1.88815728, -1.8134966 , -1.80857804, -1.74187579,\n",
       "       -1.73154315, -1.71639102, -1.71372358, -1.67587303, -1.64102097,\n",
       "       -1.63498158, -1.62215678, -1.61146741, -1.59344933, -1.54582494,\n",
       "       -1.54285259, -1.51413703, -1.49974262, -1.49619189, -1.48877158])"
      ]
     },
     "execution_count": 47,
     "metadata": {},
     "output_type": "execute_result"
    }
   ],
   "source": [
    "diabetes_df_new_scores = lof.negative_outlier_factor_\n",
    "np.sort(diabetes_df_new_scores)[0:30]    "
   ]
  },
  {
   "cell_type": "code",
   "execution_count": 49,
   "id": "c682e260-5850-466a-8789-e6da082aa04a",
   "metadata": {},
   "outputs": [
    {
     "data": {
      "text/plain": [
       "-2.007207629622323"
      ]
     },
     "execution_count": 49,
     "metadata": {},
     "output_type": "execute_result"
    }
   ],
   "source": [
    "#Choose the threshold value according to lof scores\n",
    "threshold = np.sort(diabetes_df_new_scores)[7]\n",
    "threshold    "
   ]
  },
  {
   "cell_type": "code",
   "execution_count": 50,
   "id": "a90e383b-70fe-4e0a-a0ce-ff8ecb372b53",
   "metadata": {},
   "outputs": [],
   "source": [
    "#Delete those that are higher than the threshold\n",
    "outlier = diabetes_df_new_scores > threshold\n",
    "diabetes_df_new = diabetes_df_new[outlier]        "
   ]
  },
  {
   "cell_type": "code",
   "execution_count": 51,
   "id": "d4a24b03-67c4-476f-95d9-50eaeb36aa7e",
   "metadata": {},
   "outputs": [
    {
     "data": {
      "text/plain": [
       "(760, 9)"
      ]
     },
     "execution_count": 51,
     "metadata": {},
     "output_type": "execute_result"
    }
   ],
   "source": [
    "#Let's recheck the size of the dataset\n",
    "diabetes_df_new.shape   "
   ]
  },
  {
   "cell_type": "markdown",
   "id": "31d65342-3015-484b-8439-62042179305c",
   "metadata": {},
   "source": [
    "# 6. Feature Engineeering"
   ]
  },
  {
   "cell_type": "code",
   "execution_count": 56,
   "id": "ff44a49c-8dde-42c9-b494-dc1bbebae07c",
   "metadata": {},
   "outputs": [
    {
     "data": {
      "text/html": [
       "<div>\n",
       "<style scoped>\n",
       "    .dataframe tbody tr th:only-of-type {\n",
       "        vertical-align: middle;\n",
       "    }\n",
       "\n",
       "    .dataframe tbody tr th {\n",
       "        vertical-align: top;\n",
       "    }\n",
       "\n",
       "    .dataframe thead th {\n",
       "        text-align: right;\n",
       "    }\n",
       "</style>\n",
       "<table border=\"1\" class=\"dataframe\">\n",
       "  <thead>\n",
       "    <tr style=\"text-align: right;\">\n",
       "      <th></th>\n",
       "      <th>Pregnancies</th>\n",
       "      <th>Glucose</th>\n",
       "      <th>BloodPressure</th>\n",
       "      <th>SkinThickness</th>\n",
       "      <th>Insulin</th>\n",
       "      <th>BMI</th>\n",
       "      <th>DiabetesPedigreeFunction</th>\n",
       "      <th>Age</th>\n",
       "      <th>Outcome</th>\n",
       "      <th>NewBMI</th>\n",
       "    </tr>\n",
       "  </thead>\n",
       "  <tbody>\n",
       "    <tr>\n",
       "      <th>0</th>\n",
       "      <td>6</td>\n",
       "      <td>148</td>\n",
       "      <td>72</td>\n",
       "      <td>35</td>\n",
       "      <td>0</td>\n",
       "      <td>33.6</td>\n",
       "      <td>0.627</td>\n",
       "      <td>50</td>\n",
       "      <td>1</td>\n",
       "      <td>Obesity 1</td>\n",
       "    </tr>\n",
       "    <tr>\n",
       "      <th>1</th>\n",
       "      <td>1</td>\n",
       "      <td>85</td>\n",
       "      <td>66</td>\n",
       "      <td>29</td>\n",
       "      <td>0</td>\n",
       "      <td>26.6</td>\n",
       "      <td>0.351</td>\n",
       "      <td>31</td>\n",
       "      <td>0</td>\n",
       "      <td>Overweight</td>\n",
       "    </tr>\n",
       "    <tr>\n",
       "      <th>2</th>\n",
       "      <td>8</td>\n",
       "      <td>183</td>\n",
       "      <td>64</td>\n",
       "      <td>0</td>\n",
       "      <td>0</td>\n",
       "      <td>23.3</td>\n",
       "      <td>0.672</td>\n",
       "      <td>32</td>\n",
       "      <td>1</td>\n",
       "      <td>Normal</td>\n",
       "    </tr>\n",
       "    <tr>\n",
       "      <th>3</th>\n",
       "      <td>1</td>\n",
       "      <td>89</td>\n",
       "      <td>66</td>\n",
       "      <td>23</td>\n",
       "      <td>94</td>\n",
       "      <td>28.1</td>\n",
       "      <td>0.167</td>\n",
       "      <td>21</td>\n",
       "      <td>0</td>\n",
       "      <td>Overweight</td>\n",
       "    </tr>\n",
       "    <tr>\n",
       "      <th>4</th>\n",
       "      <td>0</td>\n",
       "      <td>137</td>\n",
       "      <td>40</td>\n",
       "      <td>35</td>\n",
       "      <td>168</td>\n",
       "      <td>43.1</td>\n",
       "      <td>2.288</td>\n",
       "      <td>33</td>\n",
       "      <td>1</td>\n",
       "      <td>Obesity 3</td>\n",
       "    </tr>\n",
       "  </tbody>\n",
       "</table>\n",
       "</div>"
      ],
      "text/plain": [
       "   Pregnancies  Glucose  BloodPressure  SkinThickness  Insulin   BMI   \n",
       "0            6      148             72             35        0  33.6  \\\n",
       "1            1       85             66             29        0  26.6   \n",
       "2            8      183             64              0        0  23.3   \n",
       "3            1       89             66             23       94  28.1   \n",
       "4            0      137             40             35      168  43.1   \n",
       "\n",
       "   DiabetesPedigreeFunction  Age  Outcome      NewBMI  \n",
       "0                     0.627   50        1   Obesity 1  \n",
       "1                     0.351   31        0  Overweight  \n",
       "2                     0.672   32        1      Normal  \n",
       "3                     0.167   21        0  Overweight  \n",
       "4                     2.288   33        1   Obesity 3  "
      ]
     },
     "execution_count": 56,
     "metadata": {},
     "output_type": "execute_result"
    }
   ],
   "source": [
    "# According to BMI column, some categorical variables were assigned.\n",
    "\n",
    "NewBMI = pd.Series([\"Underweight\", \"Normal\", \"Overweight\", \"Obesity 1\", \"Obesity 2\", \"Obesity 3\"], dtype = \"category\")\n",
    "diabetes_df_new[\"NewBMI\"] = NewBMI\n",
    "diabetes_df_new.loc[diabetes_df_new[\"BMI\"] < 18.5, \"NewBMI\"] = NewBMI[0]\n",
    "diabetes_df_new.loc[(diabetes_df_new[\"BMI\"] > 18.5) & (diabetes_df_new[\"BMI\"] <= 24.9), \"NewBMI\"] = NewBMI[1]\n",
    "diabetes_df_new.loc[(diabetes_df_new[\"BMI\"] > 24.9) & (diabetes_df_new[\"BMI\"] <= 29.9), \"NewBMI\"] = NewBMI[2]\n",
    "diabetes_df_new.loc[(diabetes_df_new[\"BMI\"] > 29.9) & (diabetes_df_new[\"BMI\"] <= 34.9), \"NewBMI\"] = NewBMI[3]\n",
    "diabetes_df_new.loc[(diabetes_df_new[\"BMI\"] > 34.9) & (diabetes_df_new[\"BMI\"] <= 39.9), \"NewBMI\"] = NewBMI[4]\n",
    "diabetes_df_new.loc[diabetes_df_new[\"BMI\"] > 39.9 ,\"NewBMI\"] = NewBMI[5]  \n",
    "\n",
    "diabetes_df_new.head()  "
   ]
  },
  {
   "cell_type": "code",
   "execution_count": 63,
   "id": "0dc8f449-c61e-4d90-8551-bc0a20f4e2f2",
   "metadata": {},
   "outputs": [
    {
     "data": {
      "text/html": [
       "<div>\n",
       "<style scoped>\n",
       "    .dataframe tbody tr th:only-of-type {\n",
       "        vertical-align: middle;\n",
       "    }\n",
       "\n",
       "    .dataframe tbody tr th {\n",
       "        vertical-align: top;\n",
       "    }\n",
       "\n",
       "    .dataframe thead th {\n",
       "        text-align: right;\n",
       "    }\n",
       "</style>\n",
       "<table border=\"1\" class=\"dataframe\">\n",
       "  <thead>\n",
       "    <tr style=\"text-align: right;\">\n",
       "      <th></th>\n",
       "      <th>Pregnancies</th>\n",
       "      <th>Glucose</th>\n",
       "      <th>BloodPressure</th>\n",
       "      <th>SkinThickness</th>\n",
       "      <th>Insulin</th>\n",
       "      <th>BMI</th>\n",
       "      <th>DiabetesPedigreeFunction</th>\n",
       "      <th>Age</th>\n",
       "      <th>Outcome</th>\n",
       "      <th>NewBMI</th>\n",
       "      <th>NewInsulinScore</th>\n",
       "      <th>NewGlucose</th>\n",
       "    </tr>\n",
       "  </thead>\n",
       "  <tbody>\n",
       "    <tr>\n",
       "      <th>0</th>\n",
       "      <td>6</td>\n",
       "      <td>148</td>\n",
       "      <td>72</td>\n",
       "      <td>35</td>\n",
       "      <td>0</td>\n",
       "      <td>33.6</td>\n",
       "      <td>0.627</td>\n",
       "      <td>50</td>\n",
       "      <td>1</td>\n",
       "      <td>Obesity 1</td>\n",
       "      <td>Abnormal</td>\n",
       "      <td>Secret</td>\n",
       "    </tr>\n",
       "    <tr>\n",
       "      <th>1</th>\n",
       "      <td>1</td>\n",
       "      <td>85</td>\n",
       "      <td>66</td>\n",
       "      <td>29</td>\n",
       "      <td>0</td>\n",
       "      <td>26.6</td>\n",
       "      <td>0.351</td>\n",
       "      <td>31</td>\n",
       "      <td>0</td>\n",
       "      <td>Overweight</td>\n",
       "      <td>Abnormal</td>\n",
       "      <td>Normal</td>\n",
       "    </tr>\n",
       "    <tr>\n",
       "      <th>2</th>\n",
       "      <td>8</td>\n",
       "      <td>183</td>\n",
       "      <td>64</td>\n",
       "      <td>0</td>\n",
       "      <td>0</td>\n",
       "      <td>23.3</td>\n",
       "      <td>0.672</td>\n",
       "      <td>32</td>\n",
       "      <td>1</td>\n",
       "      <td>Normal</td>\n",
       "      <td>Abnormal</td>\n",
       "      <td>Secret</td>\n",
       "    </tr>\n",
       "    <tr>\n",
       "      <th>3</th>\n",
       "      <td>1</td>\n",
       "      <td>89</td>\n",
       "      <td>66</td>\n",
       "      <td>23</td>\n",
       "      <td>94</td>\n",
       "      <td>28.1</td>\n",
       "      <td>0.167</td>\n",
       "      <td>21</td>\n",
       "      <td>0</td>\n",
       "      <td>Overweight</td>\n",
       "      <td>Normal</td>\n",
       "      <td>Normal</td>\n",
       "    </tr>\n",
       "    <tr>\n",
       "      <th>4</th>\n",
       "      <td>0</td>\n",
       "      <td>137</td>\n",
       "      <td>40</td>\n",
       "      <td>35</td>\n",
       "      <td>168</td>\n",
       "      <td>43.1</td>\n",
       "      <td>2.288</td>\n",
       "      <td>33</td>\n",
       "      <td>1</td>\n",
       "      <td>Obesity 3</td>\n",
       "      <td>Abnormal</td>\n",
       "      <td>Secret</td>\n",
       "    </tr>\n",
       "  </tbody>\n",
       "</table>\n",
       "</div>"
      ],
      "text/plain": [
       "   Pregnancies  Glucose  BloodPressure  SkinThickness  Insulin   BMI   \n",
       "0            6      148             72             35        0  33.6  \\\n",
       "1            1       85             66             29        0  26.6   \n",
       "2            8      183             64              0        0  23.3   \n",
       "3            1       89             66             23       94  28.1   \n",
       "4            0      137             40             35      168  43.1   \n",
       "\n",
       "   DiabetesPedigreeFunction  Age  Outcome      NewBMI NewInsulinScore   \n",
       "0                     0.627   50        1   Obesity 1        Abnormal  \\\n",
       "1                     0.351   31        0  Overweight        Abnormal   \n",
       "2                     0.672   32        1      Normal        Abnormal   \n",
       "3                     0.167   21        0  Overweight          Normal   \n",
       "4                     2.288   33        1   Obesity 3        Abnormal   \n",
       "\n",
       "  NewGlucose  \n",
       "0     Secret  \n",
       "1     Normal  \n",
       "2     Secret  \n",
       "3     Normal  \n",
       "4     Secret  "
      ]
     },
     "execution_count": 63,
     "metadata": {},
     "output_type": "execute_result"
    }
   ],
   "source": [
    "#According to the insulin value.\n",
    "def set_insulin(row):\n",
    "    if row[\"Insulin\"] >= 16 and row[\"Insulin\"] <= 166:\n",
    "        return \"Normal\"\n",
    "    else:\n",
    "        return \"Abnormal\" \n",
    "diabetes_df_new = diabetes_df_new.assign(NewInsulinScore=diabetes_df_new.apply(set_insulin, axis=1))     \n",
    "diabetes_df_new.head()  "
   ]
  },
  {
   "cell_type": "code",
   "execution_count": 65,
   "id": "5f8959dc-21a2-4714-8241-6c6a9f0c50c6",
   "metadata": {},
   "outputs": [],
   "source": [
    "#Glucose variables were assigned dummy variables.\n",
    "NewGlucose = pd.Series([\"Low\", \"Normal\", \"Overweight\", \"Secret\", \"High\"], dtype = \"category\")\n",
    "diabetes_df_new[\"NewGlucose\"] = NewGlucose\n",
    "diabetes_df_new.loc[diabetes_df_new[\"Glucose\"] <= 70, \"NewGlucose\"] = NewGlucose[0]\n",
    "diabetes_df_new.loc[(diabetes_df_new[\"Glucose\"] > 70) & (diabetes_df_new[\"Glucose\"] <= 99), \"NewGlucose\"] = NewGlucose[1]\n",
    "diabetes_df_new.loc[(diabetes_df_new[\"Glucose\"] > 99) & (diabetes_df_new[\"Glucose\"] <= 126), \"NewGlucose\"] = NewGlucose[2]\n",
    "diabetes_df_new.loc[diabetes_df_new[\"Glucose\"] > 126 ,\"NewGlucose\"] = NewGlucose[3]        "
   ]
  },
  {
   "cell_type": "code",
   "execution_count": 66,
   "id": "cfc4a6cc-d218-4851-a713-140d8b899997",
   "metadata": {},
   "outputs": [
    {
     "data": {
      "text/html": [
       "<div>\n",
       "<style scoped>\n",
       "    .dataframe tbody tr th:only-of-type {\n",
       "        vertical-align: middle;\n",
       "    }\n",
       "\n",
       "    .dataframe tbody tr th {\n",
       "        vertical-align: top;\n",
       "    }\n",
       "\n",
       "    .dataframe thead th {\n",
       "        text-align: right;\n",
       "    }\n",
       "</style>\n",
       "<table border=\"1\" class=\"dataframe\">\n",
       "  <thead>\n",
       "    <tr style=\"text-align: right;\">\n",
       "      <th></th>\n",
       "      <th>Pregnancies</th>\n",
       "      <th>Glucose</th>\n",
       "      <th>BloodPressure</th>\n",
       "      <th>SkinThickness</th>\n",
       "      <th>Insulin</th>\n",
       "      <th>BMI</th>\n",
       "      <th>DiabetesPedigreeFunction</th>\n",
       "      <th>Age</th>\n",
       "      <th>Outcome</th>\n",
       "      <th>NewBMI</th>\n",
       "      <th>NewInsulinScore</th>\n",
       "      <th>NewGlucose</th>\n",
       "    </tr>\n",
       "  </thead>\n",
       "  <tbody>\n",
       "    <tr>\n",
       "      <th>0</th>\n",
       "      <td>6</td>\n",
       "      <td>148</td>\n",
       "      <td>72</td>\n",
       "      <td>35</td>\n",
       "      <td>0</td>\n",
       "      <td>33.6</td>\n",
       "      <td>0.627</td>\n",
       "      <td>50</td>\n",
       "      <td>1</td>\n",
       "      <td>Obesity 1</td>\n",
       "      <td>Abnormal</td>\n",
       "      <td>Secret</td>\n",
       "    </tr>\n",
       "    <tr>\n",
       "      <th>1</th>\n",
       "      <td>1</td>\n",
       "      <td>85</td>\n",
       "      <td>66</td>\n",
       "      <td>29</td>\n",
       "      <td>0</td>\n",
       "      <td>26.6</td>\n",
       "      <td>0.351</td>\n",
       "      <td>31</td>\n",
       "      <td>0</td>\n",
       "      <td>Overweight</td>\n",
       "      <td>Abnormal</td>\n",
       "      <td>Normal</td>\n",
       "    </tr>\n",
       "    <tr>\n",
       "      <th>2</th>\n",
       "      <td>8</td>\n",
       "      <td>183</td>\n",
       "      <td>64</td>\n",
       "      <td>0</td>\n",
       "      <td>0</td>\n",
       "      <td>23.3</td>\n",
       "      <td>0.672</td>\n",
       "      <td>32</td>\n",
       "      <td>1</td>\n",
       "      <td>Normal</td>\n",
       "      <td>Abnormal</td>\n",
       "      <td>Secret</td>\n",
       "    </tr>\n",
       "    <tr>\n",
       "      <th>3</th>\n",
       "      <td>1</td>\n",
       "      <td>89</td>\n",
       "      <td>66</td>\n",
       "      <td>23</td>\n",
       "      <td>94</td>\n",
       "      <td>28.1</td>\n",
       "      <td>0.167</td>\n",
       "      <td>21</td>\n",
       "      <td>0</td>\n",
       "      <td>Overweight</td>\n",
       "      <td>Normal</td>\n",
       "      <td>Normal</td>\n",
       "    </tr>\n",
       "    <tr>\n",
       "      <th>4</th>\n",
       "      <td>0</td>\n",
       "      <td>137</td>\n",
       "      <td>40</td>\n",
       "      <td>35</td>\n",
       "      <td>168</td>\n",
       "      <td>43.1</td>\n",
       "      <td>2.288</td>\n",
       "      <td>33</td>\n",
       "      <td>1</td>\n",
       "      <td>Obesity 3</td>\n",
       "      <td>Abnormal</td>\n",
       "      <td>Secret</td>\n",
       "    </tr>\n",
       "  </tbody>\n",
       "</table>\n",
       "</div>"
      ],
      "text/plain": [
       "   Pregnancies  Glucose  BloodPressure  SkinThickness  Insulin   BMI   \n",
       "0            6      148             72             35        0  33.6  \\\n",
       "1            1       85             66             29        0  26.6   \n",
       "2            8      183             64              0        0  23.3   \n",
       "3            1       89             66             23       94  28.1   \n",
       "4            0      137             40             35      168  43.1   \n",
       "\n",
       "   DiabetesPedigreeFunction  Age  Outcome      NewBMI NewInsulinScore   \n",
       "0                     0.627   50        1   Obesity 1        Abnormal  \\\n",
       "1                     0.351   31        0  Overweight        Abnormal   \n",
       "2                     0.672   32        1      Normal        Abnormal   \n",
       "3                     0.167   21        0  Overweight          Normal   \n",
       "4                     2.288   33        1   Obesity 3        Abnormal   \n",
       "\n",
       "  NewGlucose  \n",
       "0     Secret  \n",
       "1     Normal  \n",
       "2     Secret  \n",
       "3     Normal  \n",
       "4     Secret  "
      ]
     },
     "execution_count": 66,
     "metadata": {},
     "output_type": "execute_result"
    }
   ],
   "source": [
    "diabetes_df_new.head()            "
   ]
  },
  {
   "cell_type": "markdown",
   "id": "903a3d17-8c76-447f-8b9f-f9086f7e58b0",
   "metadata": {},
   "source": [
    "# 7. Encoding"
   ]
  },
  {
   "cell_type": "code",
   "execution_count": 67,
   "id": "02615319-9680-41ed-a452-188dcdd27956",
   "metadata": {},
   "outputs": [],
   "source": [
    "# Here, by making One Hot Encoding transformation, categorical variables were converted into numerical values. It is also protected from the Dummy variable trap.\n",
    "diabetes_df_new = pd.get_dummies(diabetes_df_new, columns =[\"NewBMI\",\"NewInsulinScore\", \"NewGlucose\"], drop_first = True)            "
   ]
  },
  {
   "cell_type": "code",
   "execution_count": 68,
   "id": "27858519-c010-4b6c-80b9-b64634bbecc2",
   "metadata": {},
   "outputs": [
    {
     "data": {
      "text/html": [
       "<div>\n",
       "<style scoped>\n",
       "    .dataframe tbody tr th:only-of-type {\n",
       "        vertical-align: middle;\n",
       "    }\n",
       "\n",
       "    .dataframe tbody tr th {\n",
       "        vertical-align: top;\n",
       "    }\n",
       "\n",
       "    .dataframe thead th {\n",
       "        text-align: right;\n",
       "    }\n",
       "</style>\n",
       "<table border=\"1\" class=\"dataframe\">\n",
       "  <thead>\n",
       "    <tr style=\"text-align: right;\">\n",
       "      <th></th>\n",
       "      <th>Pregnancies</th>\n",
       "      <th>Glucose</th>\n",
       "      <th>BloodPressure</th>\n",
       "      <th>SkinThickness</th>\n",
       "      <th>Insulin</th>\n",
       "      <th>BMI</th>\n",
       "      <th>DiabetesPedigreeFunction</th>\n",
       "      <th>Age</th>\n",
       "      <th>Outcome</th>\n",
       "      <th>NewBMI_Obesity 1</th>\n",
       "      <th>NewBMI_Obesity 2</th>\n",
       "      <th>NewBMI_Obesity 3</th>\n",
       "      <th>NewBMI_Overweight</th>\n",
       "      <th>NewBMI_Underweight</th>\n",
       "      <th>NewInsulinScore_Normal</th>\n",
       "      <th>NewGlucose_Low</th>\n",
       "      <th>NewGlucose_Normal</th>\n",
       "      <th>NewGlucose_Overweight</th>\n",
       "      <th>NewGlucose_Secret</th>\n",
       "    </tr>\n",
       "  </thead>\n",
       "  <tbody>\n",
       "    <tr>\n",
       "      <th>0</th>\n",
       "      <td>6</td>\n",
       "      <td>148</td>\n",
       "      <td>72</td>\n",
       "      <td>35</td>\n",
       "      <td>0</td>\n",
       "      <td>33.6</td>\n",
       "      <td>0.627</td>\n",
       "      <td>50</td>\n",
       "      <td>1</td>\n",
       "      <td>True</td>\n",
       "      <td>False</td>\n",
       "      <td>False</td>\n",
       "      <td>False</td>\n",
       "      <td>False</td>\n",
       "      <td>False</td>\n",
       "      <td>False</td>\n",
       "      <td>False</td>\n",
       "      <td>False</td>\n",
       "      <td>True</td>\n",
       "    </tr>\n",
       "    <tr>\n",
       "      <th>1</th>\n",
       "      <td>1</td>\n",
       "      <td>85</td>\n",
       "      <td>66</td>\n",
       "      <td>29</td>\n",
       "      <td>0</td>\n",
       "      <td>26.6</td>\n",
       "      <td>0.351</td>\n",
       "      <td>31</td>\n",
       "      <td>0</td>\n",
       "      <td>False</td>\n",
       "      <td>False</td>\n",
       "      <td>False</td>\n",
       "      <td>True</td>\n",
       "      <td>False</td>\n",
       "      <td>False</td>\n",
       "      <td>False</td>\n",
       "      <td>True</td>\n",
       "      <td>False</td>\n",
       "      <td>False</td>\n",
       "    </tr>\n",
       "    <tr>\n",
       "      <th>2</th>\n",
       "      <td>8</td>\n",
       "      <td>183</td>\n",
       "      <td>64</td>\n",
       "      <td>0</td>\n",
       "      <td>0</td>\n",
       "      <td>23.3</td>\n",
       "      <td>0.672</td>\n",
       "      <td>32</td>\n",
       "      <td>1</td>\n",
       "      <td>False</td>\n",
       "      <td>False</td>\n",
       "      <td>False</td>\n",
       "      <td>False</td>\n",
       "      <td>False</td>\n",
       "      <td>False</td>\n",
       "      <td>False</td>\n",
       "      <td>False</td>\n",
       "      <td>False</td>\n",
       "      <td>True</td>\n",
       "    </tr>\n",
       "    <tr>\n",
       "      <th>3</th>\n",
       "      <td>1</td>\n",
       "      <td>89</td>\n",
       "      <td>66</td>\n",
       "      <td>23</td>\n",
       "      <td>94</td>\n",
       "      <td>28.1</td>\n",
       "      <td>0.167</td>\n",
       "      <td>21</td>\n",
       "      <td>0</td>\n",
       "      <td>False</td>\n",
       "      <td>False</td>\n",
       "      <td>False</td>\n",
       "      <td>True</td>\n",
       "      <td>False</td>\n",
       "      <td>True</td>\n",
       "      <td>False</td>\n",
       "      <td>True</td>\n",
       "      <td>False</td>\n",
       "      <td>False</td>\n",
       "    </tr>\n",
       "    <tr>\n",
       "      <th>4</th>\n",
       "      <td>0</td>\n",
       "      <td>137</td>\n",
       "      <td>40</td>\n",
       "      <td>35</td>\n",
       "      <td>168</td>\n",
       "      <td>43.1</td>\n",
       "      <td>2.288</td>\n",
       "      <td>33</td>\n",
       "      <td>1</td>\n",
       "      <td>False</td>\n",
       "      <td>False</td>\n",
       "      <td>True</td>\n",
       "      <td>False</td>\n",
       "      <td>False</td>\n",
       "      <td>False</td>\n",
       "      <td>False</td>\n",
       "      <td>False</td>\n",
       "      <td>False</td>\n",
       "      <td>True</td>\n",
       "    </tr>\n",
       "  </tbody>\n",
       "</table>\n",
       "</div>"
      ],
      "text/plain": [
       "   Pregnancies  Glucose  BloodPressure  SkinThickness  Insulin   BMI   \n",
       "0            6      148             72             35        0  33.6  \\\n",
       "1            1       85             66             29        0  26.6   \n",
       "2            8      183             64              0        0  23.3   \n",
       "3            1       89             66             23       94  28.1   \n",
       "4            0      137             40             35      168  43.1   \n",
       "\n",
       "   DiabetesPedigreeFunction  Age  Outcome  NewBMI_Obesity 1  NewBMI_Obesity 2   \n",
       "0                     0.627   50        1              True             False  \\\n",
       "1                     0.351   31        0             False             False   \n",
       "2                     0.672   32        1             False             False   \n",
       "3                     0.167   21        0             False             False   \n",
       "4                     2.288   33        1             False             False   \n",
       "\n",
       "   NewBMI_Obesity 3  NewBMI_Overweight  NewBMI_Underweight   \n",
       "0             False              False               False  \\\n",
       "1             False               True               False   \n",
       "2             False              False               False   \n",
       "3             False               True               False   \n",
       "4              True              False               False   \n",
       "\n",
       "   NewInsulinScore_Normal  NewGlucose_Low  NewGlucose_Normal   \n",
       "0                   False           False              False  \\\n",
       "1                   False           False               True   \n",
       "2                   False           False              False   \n",
       "3                    True           False               True   \n",
       "4                   False           False              False   \n",
       "\n",
       "   NewGlucose_Overweight  NewGlucose_Secret  \n",
       "0                  False               True  \n",
       "1                  False              False  \n",
       "2                  False               True  \n",
       "3                  False              False  \n",
       "4                  False               True  "
      ]
     },
     "execution_count": 68,
     "metadata": {},
     "output_type": "execute_result"
    }
   ],
   "source": [
    "diabetes_df_new.head()         "
   ]
  },
  {
   "cell_type": "code",
   "execution_count": 70,
   "id": "4f6d243d-d1bb-47aa-83be-9e3bd98d86f9",
   "metadata": {},
   "outputs": [],
   "source": [
    "categorical_diabetes_df_new = diabetes_df_new[['NewBMI_Obesity 1','NewBMI_Obesity 2', 'NewBMI_Obesity 3', 'NewBMI_Overweight','NewBMI_Underweight',\n",
    "                     'NewInsulinScore_Normal','NewGlucose_Low','NewGlucose_Normal', 'NewGlucose_Overweight']]         "
   ]
  },
  {
   "cell_type": "code",
   "execution_count": 71,
   "id": "30d1bdbb-7f20-401a-8fda-b3b2bbd9d36c",
   "metadata": {},
   "outputs": [
    {
     "data": {
      "text/html": [
       "<div>\n",
       "<style scoped>\n",
       "    .dataframe tbody tr th:only-of-type {\n",
       "        vertical-align: middle;\n",
       "    }\n",
       "\n",
       "    .dataframe tbody tr th {\n",
       "        vertical-align: top;\n",
       "    }\n",
       "\n",
       "    .dataframe thead th {\n",
       "        text-align: right;\n",
       "    }\n",
       "</style>\n",
       "<table border=\"1\" class=\"dataframe\">\n",
       "  <thead>\n",
       "    <tr style=\"text-align: right;\">\n",
       "      <th></th>\n",
       "      <th>NewBMI_Obesity 1</th>\n",
       "      <th>NewBMI_Obesity 2</th>\n",
       "      <th>NewBMI_Obesity 3</th>\n",
       "      <th>NewBMI_Overweight</th>\n",
       "      <th>NewBMI_Underweight</th>\n",
       "      <th>NewInsulinScore_Normal</th>\n",
       "      <th>NewGlucose_Low</th>\n",
       "      <th>NewGlucose_Normal</th>\n",
       "      <th>NewGlucose_Overweight</th>\n",
       "    </tr>\n",
       "  </thead>\n",
       "  <tbody>\n",
       "    <tr>\n",
       "      <th>0</th>\n",
       "      <td>True</td>\n",
       "      <td>False</td>\n",
       "      <td>False</td>\n",
       "      <td>False</td>\n",
       "      <td>False</td>\n",
       "      <td>False</td>\n",
       "      <td>False</td>\n",
       "      <td>False</td>\n",
       "      <td>False</td>\n",
       "    </tr>\n",
       "    <tr>\n",
       "      <th>1</th>\n",
       "      <td>False</td>\n",
       "      <td>False</td>\n",
       "      <td>False</td>\n",
       "      <td>True</td>\n",
       "      <td>False</td>\n",
       "      <td>False</td>\n",
       "      <td>False</td>\n",
       "      <td>True</td>\n",
       "      <td>False</td>\n",
       "    </tr>\n",
       "    <tr>\n",
       "      <th>2</th>\n",
       "      <td>False</td>\n",
       "      <td>False</td>\n",
       "      <td>False</td>\n",
       "      <td>False</td>\n",
       "      <td>False</td>\n",
       "      <td>False</td>\n",
       "      <td>False</td>\n",
       "      <td>False</td>\n",
       "      <td>False</td>\n",
       "    </tr>\n",
       "    <tr>\n",
       "      <th>3</th>\n",
       "      <td>False</td>\n",
       "      <td>False</td>\n",
       "      <td>False</td>\n",
       "      <td>True</td>\n",
       "      <td>False</td>\n",
       "      <td>True</td>\n",
       "      <td>False</td>\n",
       "      <td>True</td>\n",
       "      <td>False</td>\n",
       "    </tr>\n",
       "    <tr>\n",
       "      <th>4</th>\n",
       "      <td>False</td>\n",
       "      <td>False</td>\n",
       "      <td>True</td>\n",
       "      <td>False</td>\n",
       "      <td>False</td>\n",
       "      <td>False</td>\n",
       "      <td>False</td>\n",
       "      <td>False</td>\n",
       "      <td>False</td>\n",
       "    </tr>\n",
       "  </tbody>\n",
       "</table>\n",
       "</div>"
      ],
      "text/plain": [
       "   NewBMI_Obesity 1  NewBMI_Obesity 2  NewBMI_Obesity 3  NewBMI_Overweight   \n",
       "0              True             False             False              False  \\\n",
       "1             False             False             False               True   \n",
       "2             False             False             False              False   \n",
       "3             False             False             False               True   \n",
       "4             False             False              True              False   \n",
       "\n",
       "   NewBMI_Underweight  NewInsulinScore_Normal  NewGlucose_Low   \n",
       "0               False                   False           False  \\\n",
       "1               False                   False           False   \n",
       "2               False                   False           False   \n",
       "3               False                    True           False   \n",
       "4               False                   False           False   \n",
       "\n",
       "   NewGlucose_Normal  NewGlucose_Overweight  \n",
       "0              False                  False  \n",
       "1               True                  False  \n",
       "2              False                  False  \n",
       "3               True                  False  \n",
       "4              False                  False  "
      ]
     },
     "execution_count": 71,
     "metadata": {},
     "output_type": "execute_result"
    }
   ],
   "source": [
    "categorical_diabetes_df_new.head()    "
   ]
  },
  {
   "cell_type": "code",
   "execution_count": 110,
   "id": "1b963ded-01c9-4486-a737-ac97a040f94a",
   "metadata": {},
   "outputs": [],
   "source": [
    "y = diabetes_df_new[\"Outcome\"]\n",
    "X = diabetes_df_new.drop([\"Outcome\",'NewBMI_Obesity 1','NewBMI_Obesity 2', 'NewBMI_Obesity 3', 'NewBMI_Overweight','NewBMI_Underweight',\n",
    "                     'NewInsulinScore_Normal','NewGlucose_Low','NewGlucose_Normal', 'NewGlucose_Overweight', 'NewGlucose_Secret'], axis = 1)\n",
    "cols = X.columns\n",
    "index = X.index   "
   ]
  },
  {
   "cell_type": "code",
   "execution_count": 73,
   "id": "3293ce91-954d-4c75-92de-596720f7fd89",
   "metadata": {},
   "outputs": [
    {
     "data": {
      "text/html": [
       "<div>\n",
       "<style scoped>\n",
       "    .dataframe tbody tr th:only-of-type {\n",
       "        vertical-align: middle;\n",
       "    }\n",
       "\n",
       "    .dataframe tbody tr th {\n",
       "        vertical-align: top;\n",
       "    }\n",
       "\n",
       "    .dataframe thead th {\n",
       "        text-align: right;\n",
       "    }\n",
       "</style>\n",
       "<table border=\"1\" class=\"dataframe\">\n",
       "  <thead>\n",
       "    <tr style=\"text-align: right;\">\n",
       "      <th></th>\n",
       "      <th>Pregnancies</th>\n",
       "      <th>Glucose</th>\n",
       "      <th>BloodPressure</th>\n",
       "      <th>SkinThickness</th>\n",
       "      <th>Insulin</th>\n",
       "      <th>BMI</th>\n",
       "      <th>DiabetesPedigreeFunction</th>\n",
       "      <th>Age</th>\n",
       "    </tr>\n",
       "  </thead>\n",
       "  <tbody>\n",
       "    <tr>\n",
       "      <th>0</th>\n",
       "      <td>6</td>\n",
       "      <td>148</td>\n",
       "      <td>72</td>\n",
       "      <td>35</td>\n",
       "      <td>0</td>\n",
       "      <td>33.6</td>\n",
       "      <td>0.627</td>\n",
       "      <td>50</td>\n",
       "    </tr>\n",
       "    <tr>\n",
       "      <th>1</th>\n",
       "      <td>1</td>\n",
       "      <td>85</td>\n",
       "      <td>66</td>\n",
       "      <td>29</td>\n",
       "      <td>0</td>\n",
       "      <td>26.6</td>\n",
       "      <td>0.351</td>\n",
       "      <td>31</td>\n",
       "    </tr>\n",
       "    <tr>\n",
       "      <th>2</th>\n",
       "      <td>8</td>\n",
       "      <td>183</td>\n",
       "      <td>64</td>\n",
       "      <td>0</td>\n",
       "      <td>0</td>\n",
       "      <td>23.3</td>\n",
       "      <td>0.672</td>\n",
       "      <td>32</td>\n",
       "    </tr>\n",
       "    <tr>\n",
       "      <th>3</th>\n",
       "      <td>1</td>\n",
       "      <td>89</td>\n",
       "      <td>66</td>\n",
       "      <td>23</td>\n",
       "      <td>94</td>\n",
       "      <td>28.1</td>\n",
       "      <td>0.167</td>\n",
       "      <td>21</td>\n",
       "    </tr>\n",
       "    <tr>\n",
       "      <th>4</th>\n",
       "      <td>0</td>\n",
       "      <td>137</td>\n",
       "      <td>40</td>\n",
       "      <td>35</td>\n",
       "      <td>168</td>\n",
       "      <td>43.1</td>\n",
       "      <td>2.288</td>\n",
       "      <td>33</td>\n",
       "    </tr>\n",
       "  </tbody>\n",
       "</table>\n",
       "</div>"
      ],
      "text/plain": [
       "   Pregnancies  Glucose  BloodPressure  SkinThickness  Insulin   BMI   \n",
       "0            6      148             72             35        0  33.6  \\\n",
       "1            1       85             66             29        0  26.6   \n",
       "2            8      183             64              0        0  23.3   \n",
       "3            1       89             66             23       94  28.1   \n",
       "4            0      137             40             35      168  43.1   \n",
       "\n",
       "   DiabetesPedigreeFunction  Age  \n",
       "0                     0.627   50  \n",
       "1                     0.351   31  \n",
       "2                     0.672   32  \n",
       "3                     0.167   21  \n",
       "4                     2.288   33  "
      ]
     },
     "execution_count": 73,
     "metadata": {},
     "output_type": "execute_result"
    }
   ],
   "source": [
    "X.head()   "
   ]
  },
  {
   "cell_type": "code",
   "execution_count": 156,
   "id": "463cf789-4e5b-462b-b5ec-2301e727b086",
   "metadata": {},
   "outputs": [],
   "source": [
    "# The variables in the data set are an effective factor in increasing the performance of the models by standardization.  \n",
    "# There are multiple standardization methods. These are methods such as\" Normalize\",\" MinMax\",\" Robust\" and \"Scale\".\n",
    "from sklearn.preprocessing import RobustScaler\n",
    "transformer = RobustScaler().fit(X)\n",
    "X = transformer.transform(X)\n",
    "X = pd.DataFrame(X, columns = cols, index = index) "
   ]
  },
  {
   "cell_type": "code",
   "execution_count": 157,
   "id": "cff8882d-c5c8-4170-bff1-fc08298cc33d",
   "metadata": {},
   "outputs": [
    {
     "data": {
      "text/html": [
       "<div>\n",
       "<style scoped>\n",
       "    .dataframe tbody tr th:only-of-type {\n",
       "        vertical-align: middle;\n",
       "    }\n",
       "\n",
       "    .dataframe tbody tr th {\n",
       "        vertical-align: top;\n",
       "    }\n",
       "\n",
       "    .dataframe thead th {\n",
       "        text-align: right;\n",
       "    }\n",
       "</style>\n",
       "<table border=\"1\" class=\"dataframe\">\n",
       "  <thead>\n",
       "    <tr style=\"text-align: right;\">\n",
       "      <th></th>\n",
       "      <th>Pregnancies</th>\n",
       "      <th>Glucose</th>\n",
       "      <th>BloodPressure</th>\n",
       "      <th>SkinThickness</th>\n",
       "      <th>Insulin</th>\n",
       "      <th>BMI</th>\n",
       "      <th>DiabetesPedigreeFunction</th>\n",
       "      <th>Age</th>\n",
       "    </tr>\n",
       "  </thead>\n",
       "  <tbody>\n",
       "    <tr>\n",
       "      <th>0</th>\n",
       "      <td>0.6</td>\n",
       "      <td>0.775</td>\n",
       "      <td>-0.025324</td>\n",
       "      <td>0.857143</td>\n",
       "      <td>0.000000</td>\n",
       "      <td>0.144444</td>\n",
       "      <td>0.672313</td>\n",
       "      <td>1.235294</td>\n",
       "    </tr>\n",
       "    <tr>\n",
       "      <th>1</th>\n",
       "      <td>-0.4</td>\n",
       "      <td>-0.800</td>\n",
       "      <td>-0.400324</td>\n",
       "      <td>0.000000</td>\n",
       "      <td>0.000000</td>\n",
       "      <td>-0.633333</td>\n",
       "      <td>-0.046906</td>\n",
       "      <td>0.117647</td>\n",
       "    </tr>\n",
       "    <tr>\n",
       "      <th>2</th>\n",
       "      <td>1.0</td>\n",
       "      <td>1.650</td>\n",
       "      <td>-0.525324</td>\n",
       "      <td>0.000000</td>\n",
       "      <td>0.000000</td>\n",
       "      <td>-1.000000</td>\n",
       "      <td>0.789577</td>\n",
       "      <td>0.176471</td>\n",
       "    </tr>\n",
       "    <tr>\n",
       "      <th>3</th>\n",
       "      <td>-0.4</td>\n",
       "      <td>-0.700</td>\n",
       "      <td>-0.400324</td>\n",
       "      <td>-0.857143</td>\n",
       "      <td>-7.294118</td>\n",
       "      <td>-0.466667</td>\n",
       "      <td>-0.526384</td>\n",
       "      <td>-0.470588</td>\n",
       "    </tr>\n",
       "    <tr>\n",
       "      <th>4</th>\n",
       "      <td>-0.6</td>\n",
       "      <td>0.500</td>\n",
       "      <td>-2.025324</td>\n",
       "      <td>0.857143</td>\n",
       "      <td>10.117647</td>\n",
       "      <td>1.200000</td>\n",
       "      <td>5.000651</td>\n",
       "      <td>0.235294</td>\n",
       "    </tr>\n",
       "  </tbody>\n",
       "</table>\n",
       "</div>"
      ],
      "text/plain": [
       "   Pregnancies  Glucose  BloodPressure  SkinThickness    Insulin       BMI   \n",
       "0          0.6    0.775      -0.025324       0.857143   0.000000  0.144444  \\\n",
       "1         -0.4   -0.800      -0.400324       0.000000   0.000000 -0.633333   \n",
       "2          1.0    1.650      -0.525324       0.000000   0.000000 -1.000000   \n",
       "3         -0.4   -0.700      -0.400324      -0.857143  -7.294118 -0.466667   \n",
       "4         -0.6    0.500      -2.025324       0.857143  10.117647  1.200000   \n",
       "\n",
       "   DiabetesPedigreeFunction       Age  \n",
       "0                  0.672313  1.235294  \n",
       "1                 -0.046906  0.117647  \n",
       "2                  0.789577  0.176471  \n",
       "3                 -0.526384 -0.470588  \n",
       "4                  5.000651  0.235294  "
      ]
     },
     "execution_count": 157,
     "metadata": {},
     "output_type": "execute_result"
    }
   ],
   "source": [
    "X.head() "
   ]
  },
  {
   "cell_type": "code",
   "execution_count": 159,
   "id": "4d3f2b0f-b6ea-4fa5-b9e6-92e838c44a81",
   "metadata": {},
   "outputs": [],
   "source": [
    "X = pd.concat([X,categorical_diabetes_df_new], axis = 1)  "
   ]
  },
  {
   "cell_type": "code",
   "execution_count": 111,
   "id": "bf2643fa-eaa4-4af0-8a49-f813c6123dd9",
   "metadata": {},
   "outputs": [
    {
     "data": {
      "text/html": [
       "<div>\n",
       "<style scoped>\n",
       "    .dataframe tbody tr th:only-of-type {\n",
       "        vertical-align: middle;\n",
       "    }\n",
       "\n",
       "    .dataframe tbody tr th {\n",
       "        vertical-align: top;\n",
       "    }\n",
       "\n",
       "    .dataframe thead th {\n",
       "        text-align: right;\n",
       "    }\n",
       "</style>\n",
       "<table border=\"1\" class=\"dataframe\">\n",
       "  <thead>\n",
       "    <tr style=\"text-align: right;\">\n",
       "      <th></th>\n",
       "      <th>Pregnancies</th>\n",
       "      <th>Glucose</th>\n",
       "      <th>BloodPressure</th>\n",
       "      <th>SkinThickness</th>\n",
       "      <th>Insulin</th>\n",
       "      <th>BMI</th>\n",
       "      <th>DiabetesPedigreeFunction</th>\n",
       "      <th>Age</th>\n",
       "    </tr>\n",
       "  </thead>\n",
       "  <tbody>\n",
       "    <tr>\n",
       "      <th>0</th>\n",
       "      <td>6</td>\n",
       "      <td>148</td>\n",
       "      <td>72</td>\n",
       "      <td>35</td>\n",
       "      <td>0</td>\n",
       "      <td>33.6</td>\n",
       "      <td>0.627</td>\n",
       "      <td>50</td>\n",
       "    </tr>\n",
       "    <tr>\n",
       "      <th>1</th>\n",
       "      <td>1</td>\n",
       "      <td>85</td>\n",
       "      <td>66</td>\n",
       "      <td>29</td>\n",
       "      <td>0</td>\n",
       "      <td>26.6</td>\n",
       "      <td>0.351</td>\n",
       "      <td>31</td>\n",
       "    </tr>\n",
       "    <tr>\n",
       "      <th>2</th>\n",
       "      <td>8</td>\n",
       "      <td>183</td>\n",
       "      <td>64</td>\n",
       "      <td>0</td>\n",
       "      <td>0</td>\n",
       "      <td>23.3</td>\n",
       "      <td>0.672</td>\n",
       "      <td>32</td>\n",
       "    </tr>\n",
       "    <tr>\n",
       "      <th>3</th>\n",
       "      <td>1</td>\n",
       "      <td>89</td>\n",
       "      <td>66</td>\n",
       "      <td>23</td>\n",
       "      <td>94</td>\n",
       "      <td>28.1</td>\n",
       "      <td>0.167</td>\n",
       "      <td>21</td>\n",
       "    </tr>\n",
       "    <tr>\n",
       "      <th>4</th>\n",
       "      <td>0</td>\n",
       "      <td>137</td>\n",
       "      <td>40</td>\n",
       "      <td>35</td>\n",
       "      <td>168</td>\n",
       "      <td>43.1</td>\n",
       "      <td>2.288</td>\n",
       "      <td>33</td>\n",
       "    </tr>\n",
       "  </tbody>\n",
       "</table>\n",
       "</div>"
      ],
      "text/plain": [
       "   Pregnancies  Glucose  BloodPressure  SkinThickness  Insulin   BMI   \n",
       "0            6      148             72             35        0  33.6  \\\n",
       "1            1       85             66             29        0  26.6   \n",
       "2            8      183             64              0        0  23.3   \n",
       "3            1       89             66             23       94  28.1   \n",
       "4            0      137             40             35      168  43.1   \n",
       "\n",
       "   DiabetesPedigreeFunction  Age  \n",
       "0                     0.627   50  \n",
       "1                     0.351   31  \n",
       "2                     0.672   32  \n",
       "3                     0.167   21  \n",
       "4                     2.288   33  "
      ]
     },
     "execution_count": 111,
     "metadata": {},
     "output_type": "execute_result"
    }
   ],
   "source": [
    "X.head()  "
   ]
  },
  {
   "cell_type": "code",
   "execution_count": 161,
   "id": "e17cf150-af7c-44a4-b79d-d00111781e29",
   "metadata": {},
   "outputs": [
    {
     "data": {
      "text/plain": [
       "0    1\n",
       "1    0\n",
       "2    1\n",
       "3    0\n",
       "4    1\n",
       "Name: Outcome, dtype: int64"
      ]
     },
     "execution_count": 161,
     "metadata": {},
     "output_type": "execute_result"
    }
   ],
   "source": [
    "y.head() "
   ]
  },
  {
   "cell_type": "markdown",
   "id": "ae3ca2b6-9d87-48fb-a925-fb8cedf8d80a",
   "metadata": {},
   "source": []
  },
  {
   "cell_type": "markdown",
   "id": "5702ddcf",
   "metadata": {},
   "source": [
    "# Part III : Training ML Model"
   ]
  },
  {
   "cell_type": "markdown",
   "id": "ecca0ccc",
   "metadata": {},
   "source": [
    "For this task, you are required to build a machine learning model to predict the outcome variable. This will be a binary classification task, as the target variable is binary. You should select at least two models, one of which should be an ensemble model, and compare their performance.\n",
    "\n",
    "- Train the models: Train the selected models on the training set.\n",
    "- Model evaluation: Evaluate the trained models on the testing set using appropriate evaluation metrics, such as accuracy, precision, recall, F1-score, and ROC-AUC.\n",
    "- Model comparison: Compare the performance of the selected models and choose the best-performing model based on the evaluation metrics. You can also perform additional analysis, such as model tuning and cross-validation, to improve the model's performance."
   ]
  },
  {
   "cell_type": "markdown",
   "id": "a4d4425a-2e78-4715-a3bd-831a0163caf1",
   "metadata": {},
   "source": [
    "# 6. Splitting the dataset"
   ]
  },
  {
   "cell_type": "code",
   "execution_count": 112,
   "id": "d2c2e774-de17-4f68-a9f2-ecebcb3cfc70",
   "metadata": {},
   "outputs": [],
   "source": [
    "X = diabetes_df_new.drop('Outcome', axis=1)\n",
    "y = diabetes_df_new['Outcome']   "
   ]
  },
  {
   "cell_type": "code",
   "execution_count": 114,
   "id": "20a8857e-6ccd-43ef-80ee-04283e5eea53",
   "metadata": {},
   "outputs": [
    {
     "name": "stdout",
     "output_type": "stream",
     "text": [
      "The size of the training dataset:  10944\n",
      "The size of the testing dataset:  2736\n"
     ]
    }
   ],
   "source": [
    "#Split the data into training and testing data using the train_test_split function\n",
    "from sklearn.model_selection import train_test_split\n",
    "\n",
    "X_train, X_test, y_train, y_test = train_test_split(X,y, test_size=0.20,\n",
    "                                                    random_state=7)  \n",
    "# Printing the size of the training and testing dataset  \n",
    "print(\"The size of the training dataset: \", X_train.size)  \n",
    "print(\"The size of the testing dataset: \", X_test.size)        "
   ]
  },
  {
   "cell_type": "markdown",
   "id": "d15f9fc1-ca54-4fc7-b81b-f133d901246c",
   "metadata": {},
   "source": [
    "The above code splits the dataset into the train (80%) and test (20%) datasets."
   ]
  },
  {
   "cell_type": "code",
   "execution_count": null,
   "id": "e4136415-8233-4e86-96cc-1786fbbfb4e9",
   "metadata": {},
   "outputs": [],
   "source": [
    "#Prediction from support vector machine model on the testing data"
   ]
  },
  {
   "cell_type": "code",
   "execution_count": 126,
   "id": "02da592b-7a23-423e-8068-2c2ca1ff111e",
   "metadata": {},
   "outputs": [],
   "source": [
    "# Python program to create a function to validate models  \n",
    "  \n",
    "def cv_model(models):  \n",
    "    \"\"\" \n",
    "    We will create a list of machine learning models and print graphs of cross-validation scores with the help of mean accuracy. \n",
    "    \"\"\"  \n",
    "      \n",
    "    # Cross validating the model using the Kfold stratified cross-validation method  \n",
    "    k_fold = StratifiedKFold(n_splits = 15)  \n",
    "      \n",
    "    r = []  \n",
    "    for m in models :  \n",
    "        r.append(cross_val_score(estimator = m, X = X_train, y = y_train, scoring = \"accuracy\", cv = k_fold, n_jobs = 4))  \n",
    "  \n",
    "    cross_val_means = []  \n",
    "    cross_val_std = []  \n",
    "    for result in r:  \n",
    "        cross_val_means.append(result.mean())  \n",
    "        cross_val_std.append(result.std())  \n",
    "  \n",
    "    df_result = pd.DataFrame({  \n",
    "        \"CrossValMean\": cross_val_means,  \n",
    "        \"CrossValStd\": cross_val_std,  \n",
    "        \"Model List\":[  \n",
    "            \"DecisionTreeClassifier\",  \n",
    "            \"LogisticRegression\",\n",
    "                        \"SVC\",  \n",
    "            \"AdaBoostClassifier\",  \n",
    "            \"GradientBoostingClassifier\",  \n",
    "            \"RandomForestClassifier\",  \n",
    "            \"KNeighborsClassifier\"  \n",
    "        ]  \n",
    "    })  \n",
    "  \n",
    "    # Generating the graph of cross-validation scores  \n",
    "    bar_plot = sns.barplot(x = cross_val_means, y = df_result[\"Model List\"].values, data = df_result)  \n",
    "    bar_plot.set_xlabel(\"Mean of Cross Validation Accuracy Scores\")  \n",
    "    bar_plot.set_title(\"Cross Validation Scores of Models\")  \n",
    "    return df_result     "
   ]
  },
  {
   "cell_type": "code",
   "execution_count": 127,
   "id": "96e5748d-c163-4cf4-abd8-de86be8ff5f0",
   "metadata": {},
   "outputs": [],
   "source": [
    "# Import libraries  \n",
    "import numpy as np # for linear algebra  \n",
    "import pandas as pd # for data processing, CSV file I/O (e.g. pd.read_csv)  \n",
    "import seaborn as sns # for data visualization  \n",
    "import matplotlib.pyplot as plt # to plot data visualization charts  \n",
    "from collections import Counter  \n",
    "import os  \n",
    "  \n",
    "# Modeling Libraries  \n",
    "from sklearn.metrics import confusion_matrix, accuracy_score, precision_score  \n",
    "from sklearn.preprocessing import QuantileTransformer  \n",
    "from sklearn.linear_model import LogisticRegression  \n",
    "from sklearn.neighbors import KNeighborsClassifier  \n",
    "from sklearn.tree import DecisionTreeClassifier  \n",
    "from sklearn.ensemble import RandomForestClassifier, AdaBoostClassifier, GradientBoostingClassifier  \n",
    "from sklearn.model_selection import GridSearchCV, cross_val_score, StratifiedKFold, learning_curve, train_test_split  \n",
    "from sklearn.svm import SVC    "
   ]
  },
  {
   "cell_type": "code",
   "execution_count": 128,
   "id": "f472b8a4-17c7-4adc-909a-fd77f1d13ca3",
   "metadata": {},
   "outputs": [
    {
     "data": {
      "text/html": [
       "<div>\n",
       "<style scoped>\n",
       "    .dataframe tbody tr th:only-of-type {\n",
       "        vertical-align: middle;\n",
       "    }\n",
       "\n",
       "    .dataframe tbody tr th {\n",
       "        vertical-align: top;\n",
       "    }\n",
       "\n",
       "    .dataframe thead th {\n",
       "        text-align: right;\n",
       "    }\n",
       "</style>\n",
       "<table border=\"1\" class=\"dataframe\">\n",
       "  <thead>\n",
       "    <tr style=\"text-align: right;\">\n",
       "      <th></th>\n",
       "      <th>CrossValMean</th>\n",
       "      <th>CrossValStd</th>\n",
       "      <th>Model List</th>\n",
       "    </tr>\n",
       "  </thead>\n",
       "  <tbody>\n",
       "    <tr>\n",
       "      <th>0</th>\n",
       "      <td>0.733659</td>\n",
       "      <td>0.067917</td>\n",
       "      <td>DecisionTreeClassifier</td>\n",
       "    </tr>\n",
       "    <tr>\n",
       "      <th>1</th>\n",
       "      <td>0.768252</td>\n",
       "      <td>0.083073</td>\n",
       "      <td>LogisticRegression</td>\n",
       "    </tr>\n",
       "    <tr>\n",
       "      <th>2</th>\n",
       "      <td>0.761341</td>\n",
       "      <td>0.072697</td>\n",
       "      <td>SVC</td>\n",
       "    </tr>\n",
       "    <tr>\n",
       "      <th>3</th>\n",
       "      <td>0.727236</td>\n",
       "      <td>0.062996</td>\n",
       "      <td>AdaBoostClassifier</td>\n",
       "    </tr>\n",
       "    <tr>\n",
       "      <th>4</th>\n",
       "      <td>0.756585</td>\n",
       "      <td>0.058345</td>\n",
       "      <td>GradientBoostingClassifier</td>\n",
       "    </tr>\n",
       "    <tr>\n",
       "      <th>5</th>\n",
       "      <td>0.776341</td>\n",
       "      <td>0.059888</td>\n",
       "      <td>RandomForestClassifier</td>\n",
       "    </tr>\n",
       "    <tr>\n",
       "      <th>6</th>\n",
       "      <td>0.721951</td>\n",
       "      <td>0.074647</td>\n",
       "      <td>KNeighborsClassifier</td>\n",
       "    </tr>\n",
       "  </tbody>\n",
       "</table>\n",
       "</div>"
      ],
      "text/plain": [
       "   CrossValMean  CrossValStd                  Model List\n",
       "0      0.733659     0.067917      DecisionTreeClassifier\n",
       "1      0.768252     0.083073          LogisticRegression\n",
       "2      0.761341     0.072697                         SVC\n",
       "3      0.727236     0.062996          AdaBoostClassifier\n",
       "4      0.756585     0.058345  GradientBoostingClassifier\n",
       "5      0.776341     0.059888      RandomForestClassifier\n",
       "6      0.721951     0.074647        KNeighborsClassifier"
      ]
     },
     "execution_count": 128,
     "metadata": {},
     "output_type": "execute_result"
    },
    {
     "data": {
      "image/png": "[encoded data removed]",
      "text/plain": [
       "<Figure size 640x480 with 1 Axes>"
      ]
     },
     "metadata": {},
     "output_type": "display_data"
    }
   ],
   "source": [
    "# Modeling the dataset using different machine learning algorithms  \n",
    "state = 20  \n",
    "models_list = [  \n",
    "    DecisionTreeClassifier(random_state = state),  \n",
    "    LogisticRegression(random_state = state, solver ='liblinear'),  \n",
    "    SVC(random_state = state),  \n",
    "    AdaBoostClassifier(DecisionTreeClassifier(random_state = state), random_state = state, learning_rate = 0.3),  \n",
    "    GradientBoostingClassifier(random_state = state),  \n",
    "    RandomForestClassifier(random_state = state),  \n",
    "    KNeighborsClassifier()  \n",
    "]  \n",
    "cv_model(models_list)        "
   ]
  },
  {
   "cell_type": "markdown",
   "id": "128ae774-f3b5-4f63-b40a-1c0f5f780cf2",
   "metadata": {},
   "source": [
    "According to the above analysis, we have discovered that the RandomForestClassifier, LogisticRegression, and SVC models have higher accuracy. We will therefore perform hyperparameter tuning on these three different models."
   ]
  },
  {
   "cell_type": "markdown",
   "id": "1dfef501-0eeb-4dd8-a999-9f35e81d8f6e",
   "metadata": {},
   "source": [
    "# 7. Hyperparameter Tuning"
   ]
  },
  {
   "cell_type": "markdown",
   "id": "03413157-b459-484a-b0a2-444d43bc9405",
   "metadata": {},
   "source": [
    "Hyperparameter tuning is essential for machine learning models to work.\n",
    "\n",
    "We will tune the RandomForestClassifier, LogisticRegression, and SVC models."
   ]
  },
  {
   "cell_type": "code",
   "execution_count": 132,
   "id": "2909482a-76b9-467f-8b95-dcc5b2401cb8",
   "metadata": {},
   "outputs": [],
   "source": [
    "# Importing the required libraries  \n",
    "from sklearn.metrics import classification_report  \n",
    "from sklearn.model_selection import GridSearchCV  \n",
    "  \n",
    "# Defining a function to analyse the grid results  \n",
    "def analyze_grid(grid):  \n",
    "    ''''' \n",
    "    Analyzing the results of GridCV method and making predictions for the test data \n",
    "    Presenting the classification report at the end \n",
    "    '''      \n",
    "    # Printing the best parameter and accuracy score  \n",
    "    print(\"Tuned hyperparameters: \", grid.best_params_)  \n",
    "    print(\"Accuracy Score:\", grid.best_score_)  \n",
    "      \n",
    "    mean_values = grid.cv_results_[\"mean_test_score\"]  \n",
    "    std_values = grid.cv_results_[\"std_test_score\"]  \n",
    "    for m, s, p in zip(mean_values, std_values, grid.cv_results_[\"params\"]):  \n",
    "      print(f\"Mean: {m}, Std: {s} * 2, Params: {p}\")  \n",
    "      print(\"The classification Report:\")  \n",
    "    y_true, y_pred = y_test, grid.predict(X_test)  \n",
    "    print(classification_report(y_true, y_pred))  \n",
    "    print()    "
   ]
  },
  {
   "cell_type": "markdown",
   "id": "15f09bbb-5637-4e6b-8196-27fc984346ab",
   "metadata": {},
   "source": [
    "GridSearchCV and the classification report classes are firstly imported from the Sklearn package. The \"analyse grid\" method, which will display the predicted result, is then defined. We have invoked this method for each model we utilised in SearchCV. We will tune each model in the following stage."
   ]
  },
  {
   "cell_type": "markdown",
   "id": "cace382a-8a77-4cb1-a487-a61efd5c6c6c",
   "metadata": {},
   "source": [
    "# 7.1. Tuning Hyperparameters of LogisticRegression"
   ]
  },
  {
   "cell_type": "code",
   "execution_count": 133,
   "id": "2ee6326d-2b0b-4d28-a9df-4692e65c061d",
   "metadata": {},
   "outputs": [
    {
     "name": "stdout",
     "output_type": "stream",
     "text": [
      "Tuned hyperparameters:  {'C': 200, 'penalty': 'l2', 'solver': 'liblinear'}\n",
      "Accuracy Score: 0.7859523809523808\n",
      "Mean: 0.7859523809523808, Std: 0.1627253365256692 * 2, Params: {'C': 200, 'penalty': 'l2', 'solver': 'liblinear'}\n",
      "The classification Report:\n",
      "Mean: 0.7826190476190475, Std: 0.16171750375394797 * 2, Params: {'C': 100, 'penalty': 'l2', 'solver': 'liblinear'}\n",
      "The classification Report:\n",
      "Mean: 0.7776190476190478, Std: 0.16092913328867178 * 2, Params: {'C': 10, 'penalty': 'l2', 'solver': 'liblinear'}\n",
      "The classification Report:\n",
      "Mean: 0.7788095238095236, Std: 0.16181002130028066 * 2, Params: {'C': 1.0, 'penalty': 'l2', 'solver': 'liblinear'}\n",
      "The classification Report:\n",
      "Mean: 0.7328571428571428, Std: 0.15022960507291105 * 2, Params: {'C': 0.01, 'penalty': 'l2', 'solver': 'liblinear'}\n",
      "The classification Report:\n",
      "              precision    recall  f1-score   support\n",
      "\n",
      "           0       0.85      0.77      0.81       111\n",
      "           1       0.50      0.63      0.56        41\n",
      "\n",
      "    accuracy                           0.73       152\n",
      "   macro avg       0.68      0.70      0.68       152\n",
      "weighted avg       0.76      0.73      0.74       152\n",
      "\n",
      "\n"
     ]
    }
   ],
   "source": [
    "# Defining the Logistic Regression model and its parameters  \n",
    "model = LogisticRegression(solver ='liblinear')  \n",
    "solver_list = ['liblinear']  \n",
    "penalty_type = ['l2']  \n",
    "c_values = [200, 100, 10, 1.0, 0.01]  \n",
    "  \n",
    "# Defining the grid search  \n",
    "grid_lr = dict(solver = solver_list, penalty = penalty_type, C = c_values)  \n",
    "cross_val = StratifiedKFold(n_splits = 100, random_state = 10, shuffle = True)  \n",
    "grid_search_cv = GridSearchCV(estimator = model, param_grid = grid_lr, cv = cross_val, scoring = 'accuracy', error_score = 0)  \n",
    "lr_result = grid_search_cv.fit(X_train, y_train)  \n",
    "  \n",
    "# Result of Hyper Parameters of Logistic Regression  \n",
    "analyze_grid(lr_result)     "
   ]
  },
  {
   "cell_type": "markdown",
   "id": "868dccf2-1c18-4631-98f6-aab29da86e0c",
   "metadata": {},
   "source": [
    "As we can see in the output, the best score returned by the LogisticRegression model is 0.79"
   ]
  },
  {
   "cell_type": "markdown",
   "id": "c71a440c-0a56-488e-aa41-c7762627fa80",
   "metadata": {},
   "source": [
    "# 7.2. Tuning Hyperparameters of SVC"
   ]
  },
  {
   "cell_type": "code",
   "execution_count": 134,
   "id": "7fa3602e-71d0-4352-a212-12f263278a57",
   "metadata": {},
   "outputs": [
    {
     "name": "stdout",
     "output_type": "stream",
     "text": [
      "Tuned hyperparameters:  {'C': 1.0, 'gamma': 0.0001, 'kernel': 'rbf'}\n",
      "Accuracy Score: 0.7532637500203222\n",
      "Mean: 0.7187403469410981, Std: 0.007322755431867515 * 2, Params: {'C': 200, 'gamma': 0.0001, 'kernel': 'rbf'}\n",
      "The classification Report:\n",
      "Mean: 0.725308491440277, Std: 0.010664982002706942 * 2, Params: {'C': 100, 'gamma': 0.0001, 'kernel': 'rbf'}\n",
      "The classification Report:\n",
      "Mean: 0.7483051260791104, Std: 0.024702558369268438 * 2, Params: {'C': 10, 'gamma': 0.0001, 'kernel': 'rbf'}\n",
      "The classification Report:\n",
      "Mean: 0.7532637500203222, Std: 0.01259779434376617 * 2, Params: {'C': 1.0, 'gamma': 0.0001, 'kernel': 'rbf'}\n",
      "The classification Report:\n",
      "Mean: 0.6299322050431644, Std: 0.0008621991674225101 * 2, Params: {'C': 0.01, 'gamma': 0.0001, 'kernel': 'rbf'}\n",
      "The classification Report:\n",
      "              precision    recall  f1-score   support\n",
      "\n",
      "           0       0.83      0.83      0.83       111\n",
      "           1       0.54      0.54      0.54        41\n",
      "\n",
      "    accuracy                           0.75       152\n",
      "   macro avg       0.68      0.68      0.68       152\n",
      "weighted avg       0.75      0.75      0.75       152\n",
      "\n",
      "\n"
     ]
    }
   ],
   "source": [
    "# Defining the SVC model and its parameters  \n",
    "  \n",
    "# Defining the grid search  \n",
    "svc = SVC()  \n",
    "parameters = [  \n",
    "    {\"kernel\": [\"rbf\"], \"gamma\": [1e-4], \"C\": [200, 100, 10, 1.0, 0.01]}  \n",
    "]  \n",
    "  \n",
    "# Performing the cross-validation with tuned parameters  \n",
    "cross_val = StratifiedKFold(n_splits = 3, random_state = 10, shuffle = True)  \n",
    "  \n",
    "# Performing the grid search  \n",
    "grid = GridSearchCV(estimator = svc, param_grid = parameters, cv = cross_val, scoring = 'accuracy')  \n",
    "  \n",
    "# SVC Hyperparameter tuning result  \n",
    "result = grid.fit(X_train, y_train)  \n",
    "  \n",
    "analyze_grid(result)   "
   ]
  },
  {
   "cell_type": "markdown",
   "id": "86136e24-6d2b-422a-8daf-9337580822bf",
   "metadata": {},
   "source": [
    "SVC Model's maximum accuracy is 0.753, somewhat less than that of Logistic Regression."
   ]
  },
  {
   "cell_type": "markdown",
   "id": "1a6dc05d-26df-4270-97a7-51cfe24e68b7",
   "metadata": {},
   "source": [
    "# 7.2. Tuning Hyperparameters of RandomForestClassifier"
   ]
  },
  {
   "cell_type": "code",
   "execution_count": 135,
   "id": "0eb9d1e2-ed63-453c-a540-6308cf1f65e7",
   "metadata": {},
   "outputs": [
    {
     "name": "stdout",
     "output_type": "stream",
     "text": [
      "Tuned hyperparameters:  {'criterion': 'entropy', 'max_depth': 5, 'max_features': 'log2', 'n_estimators': 500}\n",
      "Accuracy Score: 0.7762603846591555\n",
      "Mean: 0.7680664618185956, Std: 0.024716761111734223 * 2, Params: {'criterion': 'entropy', 'max_depth': 4, 'max_features': 'log2', 'n_estimators': 500}\n",
      "The classification Report:\n",
      "Mean: 0.7762603846591555, Std: 0.036879325898412814 * 2, Params: {'criterion': 'entropy', 'max_depth': 5, 'max_features': 'log2', 'n_estimators': 500}\n",
      "The classification Report:\n",
      "Mean: 0.7598237656277943, Std: 0.03407758609007502 * 2, Params: {'criterion': 'entropy', 'max_depth': 6, 'max_features': 'log2', 'n_estimators': 500}\n",
      "The classification Report:\n",
      "              precision    recall  f1-score   support\n",
      "\n",
      "           0       0.83      0.80      0.82       111\n",
      "           1       0.51      0.56      0.53        41\n",
      "\n",
      "    accuracy                           0.74       152\n",
      "   macro avg       0.67      0.68      0.68       152\n",
      "weighted avg       0.75      0.74      0.74       152\n",
      "\n",
      "\n"
     ]
    }
   ],
   "source": [
    "# Defining the SVC model and its parameters  \n",
    "  \n",
    "# Defining the grid search  \n",
    "rfc = RandomForestClassifier(random_state = 42)  \n",
    "parameters = {   \n",
    "    'n_estimators': [500],  \n",
    "    'max_features': ['log2'],  \n",
    "    'max_depth' : [4,5,6],  \n",
    "    'criterion' :['entropy']  \n",
    "}  \n",
    "  \n",
    "# Performing the cross-validation with tuned parameters  \n",
    "cross_val = StratifiedKFold(n_splits = 3, random_state = 10, shuffle = True)  \n",
    "  \n",
    "# Performing the grid search  \n",
    "grid = GridSearchCV(estimator = rfc, param_grid = parameters, cv = cross_val, scoring = 'accuracy')  \n",
    "  \n",
    "# SVC Hyperparameter Tuning Result  \n",
    "result = grid.fit(X_train, y_train)  \n",
    "  \n",
    "analyze_grid(result)   "
   ]
  },
  {
   "cell_type": "markdown",
   "id": "ab686ce9-2970-4fa8-b380-7cb26b496d06",
   "metadata": {},
   "source": [
    "RandomForestClassifier's maximum accuracy score is 0.78"
   ]
  },
  {
   "cell_type": "markdown",
   "id": "37dc6b98-ab90-4884-9b3a-16b87d836d31",
   "metadata": {},
   "source": [
    "We will now make predictions using the model of tuned hyperparameters with the highest accuracy score"
   ]
  },
  {
   "cell_type": "markdown",
   "id": "30d93f79-3be4-41df-9529-46043ceebaac",
   "metadata": {},
   "source": [
    "# 8. Making predictions"
   ]
  },
  {
   "cell_type": "code",
   "execution_count": 136,
   "id": "b3881c8f-7cda-40be-a187-ebf3fe59b3b0",
   "metadata": {},
   "outputs": [
    {
     "name": "stdout",
     "output_type": "stream",
     "text": [
      "              precision    recall  f1-score   support\n",
      "\n",
      "           0       0.85      0.77      0.81       111\n",
      "           1       0.50      0.63      0.56        41\n",
      "\n",
      "    accuracy                           0.73       152\n",
      "   macro avg       0.68      0.70      0.68       152\n",
      "weighted avg       0.76      0.73      0.74       152\n",
      "\n"
     ]
    }
   ],
   "source": [
    "y_pred = lr_result.predict(X_test)  \n",
    "print(classification_report(y_test, y_pred))   "
   ]
  },
  {
   "cell_type": "code",
   "execution_count": 137,
   "id": "c27e11b7-861b-4857-83b3-d73eafcc4e16",
   "metadata": {},
   "outputs": [
    {
     "name": "stdout",
     "output_type": "stream",
     "text": [
      "     Pregnancies  Glucose  BloodPressure  SkinThickness  Insulin   BMI   \n",
      "477            7      114             76             17      110  23.8  \\\n",
      "741            3      102             44             20       94  30.8   \n",
      "553            1       88             62             24       44  29.9   \n",
      "449            0      120             74             18       63  30.5   \n",
      "701            6      125             78             31        0  27.6   \n",
      "..           ...      ...            ...            ...      ...   ...   \n",
      "327           10      179             70              0        0  35.1   \n",
      "333           12      106             80              0        0  23.6   \n",
      "372            0       84             64             22       66  35.8   \n",
      "325            1      157             72             21      168  25.6   \n",
      "673            3      123            100             35      240  57.3   \n",
      "\n",
      "     DiabetesPedigreeFunction  Age  NewBMI_Obesity 1  NewBMI_Obesity 2   \n",
      "477                     0.466   31             False             False  \\\n",
      "741                     0.400   26              True             False   \n",
      "553                     0.422   23             False             False   \n",
      "449                     0.285   26              True             False   \n",
      "701                     0.565   49             False             False   \n",
      "..                        ...  ...               ...               ...   \n",
      "327                     0.200   37             False              True   \n",
      "333                     0.137   44             False             False   \n",
      "372                     0.545   21             False              True   \n",
      "325                     0.123   24             False             False   \n",
      "673                     0.880   22             False             False   \n",
      "\n",
      "     NewBMI_Obesity 3  NewBMI_Overweight  NewBMI_Underweight   \n",
      "477             False              False               False  \\\n",
      "741             False              False               False   \n",
      "553             False               True               False   \n",
      "449             False              False               False   \n",
      "701             False               True               False   \n",
      "..                ...                ...                 ...   \n",
      "327             False              False               False   \n",
      "333             False              False               False   \n",
      "372             False              False               False   \n",
      "325             False               True               False   \n",
      "673              True              False               False   \n",
      "\n",
      "     NewInsulinScore_Normal  NewGlucose_Low  NewGlucose_Normal   \n",
      "477                    True           False              False  \\\n",
      "741                    True           False              False   \n",
      "553                    True           False               True   \n",
      "449                    True           False              False   \n",
      "701                   False           False              False   \n",
      "..                      ...             ...                ...   \n",
      "327                   False           False              False   \n",
      "333                   False           False              False   \n",
      "372                    True           False               True   \n",
      "325                   False           False              False   \n",
      "673                   False           False              False   \n",
      "\n",
      "     NewGlucose_Overweight  NewGlucose_Secret  predictions  \n",
      "477                   True              False            0  \n",
      "741                   True              False            0  \n",
      "553                  False              False            0  \n",
      "449                   True              False            0  \n",
      "701                   True              False            0  \n",
      "..                     ...                ...          ...  \n",
      "327                  False               True            1  \n",
      "333                   True              False            0  \n",
      "372                  False              False            0  \n",
      "325                  False               True            0  \n",
      "673                   True              False            1  \n",
      "\n",
      "[152 rows x 19 columns]\n"
     ]
    }
   ],
   "source": [
    "X_test['predictions'] = y_pred  \n",
    "print(X_test)   "
   ]
  },
  {
   "cell_type": "code",
   "execution_count": null,
   "id": "4d23b353-a18b-4c46-b091-9253adef237e",
   "metadata": {},
   "outputs": [],
   "source": []
  },
  {
   "cell_type": "markdown",
   "id": "142ed923",
   "metadata": {},
   "source": [
    "# Part IV : Conclusion"
   ]
  },
  {
   "cell_type": "markdown",
   "id": "8aaec134",
   "metadata": {},
   "source": [
    "From the machine learning models developed and the exploratory data analysis (EDA) conducted, generate four bullet points as your findings."
   ]
  },
  {
   "cell_type": "markdown",
   "id": "c143fb3e-a8cd-4e38-9206-7d0351acb2a8",
   "metadata": {},
   "source": [
    "1. LogisticRegression model is the best model for this prediction since it has a maximmum accuracy_score of 0.79.\n",
    "\n",
    "2. One of the risks during pregnancy is diabetes. It will have to be diagnosed to avoid problems.\n",
    "\n",
    "3. An increase in glucose levels is strongly correlated to a rise in diabetes."
   ]
  },
  {
   "cell_type": "markdown",
   "id": "6c1e877e-bfd0-429b-9aeb-d8be538d9a1e",
   "metadata": {},
   "source": [
    "Glucose as a feature is the most important in this dataset"
   ]
  },
  {
   "cell_type": "code",
   "execution_count": null,
   "id": "fc522c9c-b027-4e63-ad8d-fa632e34c7e0",
   "metadata": {},
   "outputs": [],
   "source": []
  },
  {
   "cell_type": "code",
   "execution_count": null,
   "id": "ee3108cd-b090-44fd-8d16-4de731b7ac2c",
   "metadata": {},
   "outputs": [],
   "source": []
  },
  {
   "cell_type": "code",
   "execution_count": null,
   "id": "48fc8b94-7a11-42a8-9cdd-6f5be5fd48c2",
   "metadata": {},
   "outputs": [],
   "source": []
  }
 ],
 "metadata": {
  "kernelspec": {
   "display_name": "Python 3 (ipykernel)",
   "language": "python",
   "name": "python3"
  },
  "language_info": {
   "codemirror_mode": {
    "name": "ipython",
    "version": 3
   },
   "file_extension": ".py",
   "mimetype": "text/x-python",
   "name": "python",
   "nbconvert_exporter": "python",
   "pygments_lexer": "ipython3",
   "version": "3.9.18"
  }
 },
 "nbformat": 4,
 "nbformat_minor": 5
}
